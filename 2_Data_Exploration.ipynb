{
 "cells": [
  {
   "cell_type": "code",
   "execution_count": 1,
   "id": "93f9f360",
   "metadata": {},
   "outputs": [],
   "source": [
    "import os\n",
    "import pandas as pd \n",
    "import numpy as np\n",
    "import matplotlib.pyplot as plt\n",
    "import seaborn as sns\n",
    "import plotly.graph_objs as go\n",
    "from plotly.offline import iplot\n",
    "import plotly.figure_factory as ff"
   ]
  },
  {
   "cell_type": "markdown",
   "id": "26acb8d7",
   "metadata": {},
   "source": [
    "# Read the Clean Data"
   ]
  },
  {
   "cell_type": "code",
   "execution_count": 2,
   "id": "f9d46b61",
   "metadata": {},
   "outputs": [
    {
     "name": "stdout",
     "output_type": "stream",
     "text": [
      "c:\\Users\\teovr\\Desktop\\Projects\\Predicting_Fraudulent_Transactions_With_Machine_Learning\n"
     ]
    }
   ],
   "source": [
    "working_directory = os.getcwd()\n",
    "print(working_directory)\n",
    "data = pd.read_csv(f\"{working_directory}/Input_Data/creditcard_cleaned.csv\") #Change the path to your dataset, if needed"
   ]
  },
  {
   "cell_type": "markdown",
   "id": "d1c0ca63",
   "metadata": {},
   "source": [
    "# Data Exploration"
   ]
  },
  {
   "cell_type": "markdown",
   "id": "35d2c9c2",
   "metadata": {},
   "source": [
    "## Transaction Distribution by Fraud Flag"
   ]
  },
  {
   "cell_type": "code",
   "execution_count": 3,
   "id": "c4d23b04",
   "metadata": {},
   "outputs": [
    {
     "data": {
      "application/vnd.plotly.v1+json": {
       "config": {
        "linkText": "Export to plot.ly",
        "plotlyServerURL": "https://plot.ly",
        "showLink": false
       },
       "data": [
        {
         "marker": {
          "color": [
           "green",
           "red"
          ]
         },
         "name": "Fraud Flag Distribution",
         "text": {
          "bdata": "AAAAAGxaEUEAAAAAAMB+QA==",
          "dtype": "f8"
         },
         "textposition": "auto",
         "type": "bar",
         "x": [
          "Not Fraud",
          "Fraud"
         ],
         "y": {
          "bdata": "m1YEAOwBAAA=",
          "dtype": "i4"
         }
        }
       ],
       "layout": {
        "bargap": 0.3,
        "height": 500,
        "hovermode": "closest",
        "margin": {
         "b": 50,
         "l": 50,
         "r": 50,
         "t": 80
        },
        "template": {
         "data": {
          "bar": [
           {
            "error_x": {
             "color": "#2a3f5f"
            },
            "error_y": {
             "color": "#2a3f5f"
            },
            "marker": {
             "line": {
              "color": "#E5ECF6",
              "width": 0.5
             },
             "pattern": {
              "fillmode": "overlay",
              "size": 10,
              "solidity": 0.2
             }
            },
            "type": "bar"
           }
          ],
          "barpolar": [
           {
            "marker": {
             "line": {
              "color": "#E5ECF6",
              "width": 0.5
             },
             "pattern": {
              "fillmode": "overlay",
              "size": 10,
              "solidity": 0.2
             }
            },
            "type": "barpolar"
           }
          ],
          "carpet": [
           {
            "aaxis": {
             "endlinecolor": "#2a3f5f",
             "gridcolor": "white",
             "linecolor": "white",
             "minorgridcolor": "white",
             "startlinecolor": "#2a3f5f"
            },
            "baxis": {
             "endlinecolor": "#2a3f5f",
             "gridcolor": "white",
             "linecolor": "white",
             "minorgridcolor": "white",
             "startlinecolor": "#2a3f5f"
            },
            "type": "carpet"
           }
          ],
          "choropleth": [
           {
            "colorbar": {
             "outlinewidth": 0,
             "ticks": ""
            },
            "type": "choropleth"
           }
          ],
          "contour": [
           {
            "colorbar": {
             "outlinewidth": 0,
             "ticks": ""
            },
            "colorscale": [
             [
              0,
              "#0d0887"
             ],
             [
              0.1111111111111111,
              "#46039f"
             ],
             [
              0.2222222222222222,
              "#7201a8"
             ],
             [
              0.3333333333333333,
              "#9c179e"
             ],
             [
              0.4444444444444444,
              "#bd3786"
             ],
             [
              0.5555555555555556,
              "#d8576b"
             ],
             [
              0.6666666666666666,
              "#ed7953"
             ],
             [
              0.7777777777777778,
              "#fb9f3a"
             ],
             [
              0.8888888888888888,
              "#fdca26"
             ],
             [
              1,
              "#f0f921"
             ]
            ],
            "type": "contour"
           }
          ],
          "contourcarpet": [
           {
            "colorbar": {
             "outlinewidth": 0,
             "ticks": ""
            },
            "type": "contourcarpet"
           }
          ],
          "heatmap": [
           {
            "colorbar": {
             "outlinewidth": 0,
             "ticks": ""
            },
            "colorscale": [
             [
              0,
              "#0d0887"
             ],
             [
              0.1111111111111111,
              "#46039f"
             ],
             [
              0.2222222222222222,
              "#7201a8"
             ],
             [
              0.3333333333333333,
              "#9c179e"
             ],
             [
              0.4444444444444444,
              "#bd3786"
             ],
             [
              0.5555555555555556,
              "#d8576b"
             ],
             [
              0.6666666666666666,
              "#ed7953"
             ],
             [
              0.7777777777777778,
              "#fb9f3a"
             ],
             [
              0.8888888888888888,
              "#fdca26"
             ],
             [
              1,
              "#f0f921"
             ]
            ],
            "type": "heatmap"
           }
          ],
          "histogram": [
           {
            "marker": {
             "pattern": {
              "fillmode": "overlay",
              "size": 10,
              "solidity": 0.2
             }
            },
            "type": "histogram"
           }
          ],
          "histogram2d": [
           {
            "colorbar": {
             "outlinewidth": 0,
             "ticks": ""
            },
            "colorscale": [
             [
              0,
              "#0d0887"
             ],
             [
              0.1111111111111111,
              "#46039f"
             ],
             [
              0.2222222222222222,
              "#7201a8"
             ],
             [
              0.3333333333333333,
              "#9c179e"
             ],
             [
              0.4444444444444444,
              "#bd3786"
             ],
             [
              0.5555555555555556,
              "#d8576b"
             ],
             [
              0.6666666666666666,
              "#ed7953"
             ],
             [
              0.7777777777777778,
              "#fb9f3a"
             ],
             [
              0.8888888888888888,
              "#fdca26"
             ],
             [
              1,
              "#f0f921"
             ]
            ],
            "type": "histogram2d"
           }
          ],
          "histogram2dcontour": [
           {
            "colorbar": {
             "outlinewidth": 0,
             "ticks": ""
            },
            "colorscale": [
             [
              0,
              "#0d0887"
             ],
             [
              0.1111111111111111,
              "#46039f"
             ],
             [
              0.2222222222222222,
              "#7201a8"
             ],
             [
              0.3333333333333333,
              "#9c179e"
             ],
             [
              0.4444444444444444,
              "#bd3786"
             ],
             [
              0.5555555555555556,
              "#d8576b"
             ],
             [
              0.6666666666666666,
              "#ed7953"
             ],
             [
              0.7777777777777778,
              "#fb9f3a"
             ],
             [
              0.8888888888888888,
              "#fdca26"
             ],
             [
              1,
              "#f0f921"
             ]
            ],
            "type": "histogram2dcontour"
           }
          ],
          "mesh3d": [
           {
            "colorbar": {
             "outlinewidth": 0,
             "ticks": ""
            },
            "type": "mesh3d"
           }
          ],
          "parcoords": [
           {
            "line": {
             "colorbar": {
              "outlinewidth": 0,
              "ticks": ""
             }
            },
            "type": "parcoords"
           }
          ],
          "pie": [
           {
            "automargin": true,
            "type": "pie"
           }
          ],
          "scatter": [
           {
            "fillpattern": {
             "fillmode": "overlay",
             "size": 10,
             "solidity": 0.2
            },
            "type": "scatter"
           }
          ],
          "scatter3d": [
           {
            "line": {
             "colorbar": {
              "outlinewidth": 0,
              "ticks": ""
             }
            },
            "marker": {
             "colorbar": {
              "outlinewidth": 0,
              "ticks": ""
             }
            },
            "type": "scatter3d"
           }
          ],
          "scattercarpet": [
           {
            "marker": {
             "colorbar": {
              "outlinewidth": 0,
              "ticks": ""
             }
            },
            "type": "scattercarpet"
           }
          ],
          "scattergeo": [
           {
            "marker": {
             "colorbar": {
              "outlinewidth": 0,
              "ticks": ""
             }
            },
            "type": "scattergeo"
           }
          ],
          "scattergl": [
           {
            "marker": {
             "colorbar": {
              "outlinewidth": 0,
              "ticks": ""
             }
            },
            "type": "scattergl"
           }
          ],
          "scattermap": [
           {
            "marker": {
             "colorbar": {
              "outlinewidth": 0,
              "ticks": ""
             }
            },
            "type": "scattermap"
           }
          ],
          "scattermapbox": [
           {
            "marker": {
             "colorbar": {
              "outlinewidth": 0,
              "ticks": ""
             }
            },
            "type": "scattermapbox"
           }
          ],
          "scatterpolar": [
           {
            "marker": {
             "colorbar": {
              "outlinewidth": 0,
              "ticks": ""
             }
            },
            "type": "scatterpolar"
           }
          ],
          "scatterpolargl": [
           {
            "marker": {
             "colorbar": {
              "outlinewidth": 0,
              "ticks": ""
             }
            },
            "type": "scatterpolargl"
           }
          ],
          "scatterternary": [
           {
            "marker": {
             "colorbar": {
              "outlinewidth": 0,
              "ticks": ""
             }
            },
            "type": "scatterternary"
           }
          ],
          "surface": [
           {
            "colorbar": {
             "outlinewidth": 0,
             "ticks": ""
            },
            "colorscale": [
             [
              0,
              "#0d0887"
             ],
             [
              0.1111111111111111,
              "#46039f"
             ],
             [
              0.2222222222222222,
              "#7201a8"
             ],
             [
              0.3333333333333333,
              "#9c179e"
             ],
             [
              0.4444444444444444,
              "#bd3786"
             ],
             [
              0.5555555555555556,
              "#d8576b"
             ],
             [
              0.6666666666666666,
              "#ed7953"
             ],
             [
              0.7777777777777778,
              "#fb9f3a"
             ],
             [
              0.8888888888888888,
              "#fdca26"
             ],
             [
              1,
              "#f0f921"
             ]
            ],
            "type": "surface"
           }
          ],
          "table": [
           {
            "cells": {
             "fill": {
              "color": "#EBF0F8"
             },
             "line": {
              "color": "white"
             }
            },
            "header": {
             "fill": {
              "color": "#C8D4E3"
             },
             "line": {
              "color": "white"
             }
            },
            "type": "table"
           }
          ]
         },
         "layout": {
          "annotationdefaults": {
           "arrowcolor": "#2a3f5f",
           "arrowhead": 0,
           "arrowwidth": 1
          },
          "autotypenumbers": "strict",
          "coloraxis": {
           "colorbar": {
            "outlinewidth": 0,
            "ticks": ""
           }
          },
          "colorscale": {
           "diverging": [
            [
             0,
             "#8e0152"
            ],
            [
             0.1,
             "#c51b7d"
            ],
            [
             0.2,
             "#de77ae"
            ],
            [
             0.3,
             "#f1b6da"
            ],
            [
             0.4,
             "#fde0ef"
            ],
            [
             0.5,
             "#f7f7f7"
            ],
            [
             0.6,
             "#e6f5d0"
            ],
            [
             0.7,
             "#b8e186"
            ],
            [
             0.8,
             "#7fbc41"
            ],
            [
             0.9,
             "#4d9221"
            ],
            [
             1,
             "#276419"
            ]
           ],
           "sequential": [
            [
             0,
             "#0d0887"
            ],
            [
             0.1111111111111111,
             "#46039f"
            ],
            [
             0.2222222222222222,
             "#7201a8"
            ],
            [
             0.3333333333333333,
             "#9c179e"
            ],
            [
             0.4444444444444444,
             "#bd3786"
            ],
            [
             0.5555555555555556,
             "#d8576b"
            ],
            [
             0.6666666666666666,
             "#ed7953"
            ],
            [
             0.7777777777777778,
             "#fb9f3a"
            ],
            [
             0.8888888888888888,
             "#fdca26"
            ],
            [
             1,
             "#f0f921"
            ]
           ],
           "sequentialminus": [
            [
             0,
             "#0d0887"
            ],
            [
             0.1111111111111111,
             "#46039f"
            ],
            [
             0.2222222222222222,
             "#7201a8"
            ],
            [
             0.3333333333333333,
             "#9c179e"
            ],
            [
             0.4444444444444444,
             "#bd3786"
            ],
            [
             0.5555555555555556,
             "#d8576b"
            ],
            [
             0.6666666666666666,
             "#ed7953"
            ],
            [
             0.7777777777777778,
             "#fb9f3a"
            ],
            [
             0.8888888888888888,
             "#fdca26"
            ],
            [
             1,
             "#f0f921"
            ]
           ]
          },
          "colorway": [
           "#636efa",
           "#EF553B",
           "#00cc96",
           "#ab63fa",
           "#FFA15A",
           "#19d3f3",
           "#FF6692",
           "#B6E880",
           "#FF97FF",
           "#FECB52"
          ],
          "font": {
           "color": "#2a3f5f"
          },
          "geo": {
           "bgcolor": "white",
           "lakecolor": "white",
           "landcolor": "#E5ECF6",
           "showlakes": true,
           "showland": true,
           "subunitcolor": "white"
          },
          "hoverlabel": {
           "align": "left"
          },
          "hovermode": "closest",
          "mapbox": {
           "style": "light"
          },
          "paper_bgcolor": "white",
          "plot_bgcolor": "#E5ECF6",
          "polar": {
           "angularaxis": {
            "gridcolor": "white",
            "linecolor": "white",
            "ticks": ""
           },
           "bgcolor": "#E5ECF6",
           "radialaxis": {
            "gridcolor": "white",
            "linecolor": "white",
            "ticks": ""
           }
          },
          "scene": {
           "xaxis": {
            "backgroundcolor": "#E5ECF6",
            "gridcolor": "white",
            "gridwidth": 2,
            "linecolor": "white",
            "showbackground": true,
            "ticks": "",
            "zerolinecolor": "white"
           },
           "yaxis": {
            "backgroundcolor": "#E5ECF6",
            "gridcolor": "white",
            "gridwidth": 2,
            "linecolor": "white",
            "showbackground": true,
            "ticks": "",
            "zerolinecolor": "white"
           },
           "zaxis": {
            "backgroundcolor": "#E5ECF6",
            "gridcolor": "white",
            "gridwidth": 2,
            "linecolor": "white",
            "showbackground": true,
            "ticks": "",
            "zerolinecolor": "white"
           }
          },
          "shapedefaults": {
           "line": {
            "color": "#2a3f5f"
           }
          },
          "ternary": {
           "aaxis": {
            "gridcolor": "white",
            "linecolor": "white",
            "ticks": ""
           },
           "baxis": {
            "gridcolor": "white",
            "linecolor": "white",
            "ticks": ""
           },
           "bgcolor": "#E5ECF6",
           "caxis": {
            "gridcolor": "white",
            "linecolor": "white",
            "ticks": ""
           }
          },
          "title": {
           "x": 0.05
          },
          "xaxis": {
           "automargin": true,
           "gridcolor": "white",
           "linecolor": "white",
           "ticks": "",
           "title": {
            "standoff": 15
           },
           "zerolinecolor": "white",
           "zerolinewidth": 2
          },
          "yaxis": {
           "automargin": true,
           "gridcolor": "white",
           "linecolor": "white",
           "ticks": "",
           "title": {
            "standoff": 15
           },
           "zerolinecolor": "white",
           "zerolinewidth": 2
          }
         }
        },
        "title": {
         "font": {
          "color": "black",
          "family": "Arial, sans-serif",
          "size": 18
         },
         "text": "Fraud Flag Distribution (Not Fraud = 0, Fraud = 1)",
         "x": 0.5,
         "xanchor": "center"
        },
        "width": 800,
        "xaxis": {
         "tickfont": {
          "size": 12
         },
         "ticktext": [
          "Not Fraud",
          "Fraud"
         ],
         "tickvals": [
          0,
          1
         ],
         "title": {
          "font": {
           "size": 14
          },
          "text": "Fraud Flag"
         }
        },
        "yaxis": {
         "tickfont": {
          "size": 12
         },
         "title": {
          "font": {
           "size": 14
          },
          "text": "Number of Transactions"
         }
        }
       }
      }
     },
     "metadata": {},
     "output_type": "display_data"
    },
    {
     "name": "stdout",
     "output_type": "stream",
     "text": [
      "Fraudulent transactions in the dataset: 492 ( 0.17 %)\n"
     ]
    }
   ],
   "source": [
    "# Create a bar chart to show the distribution of the Fraud_Flag variable\n",
    "count = data[\"Fraud_Flag\"].value_counts()\n",
    "bar_plot = pd.DataFrame({'Fraud_Flag': count.index, 'values': count.values})\n",
    "\n",
    "# Set colors for the bars (red for fraud, green for not fraud)\n",
    "colors = ['green' if flag == 0 else 'red' for flag in bar_plot['Fraud_Flag']]\n",
    "\n",
    "# Create the bar chart\n",
    "trace = go.Bar(\n",
    "    x=['Not Fraud', 'Fraud'],  \n",
    "    y=bar_plot['values'],\n",
    "    name=\"Fraud Flag Distribution\",\n",
    "    marker=dict(color=colors),\n",
    "    text=bar_plot['values'],  \n",
    "    textposition='auto'  \n",
    ")\n",
    "\n",
    "# Define the layout\n",
    "layout = go.Layout(\n",
    "    title=dict(\n",
    "        text='Fraud Flag Distribution (Not Fraud = 0, Fraud = 1)',\n",
    "        font=dict(size=18, family='Arial, sans-serif', color='black'),\n",
    "        x=0.5,  \n",
    "        xanchor='center'\n",
    "    ),\n",
    "    xaxis=dict(\n",
    "        title=dict(\n",
    "            text='Fraud Flag',\n",
    "            font=dict(size=14)  \n",
    "        ),\n",
    "        tickvals=[0, 1],  # Only show ticks for 0 and 1\n",
    "        ticktext=['Not Fraud', 'Fraud'],  \n",
    "        tickfont=dict(size=12)  \n",
    "    ),\n",
    "    yaxis=dict(\n",
    "        title=dict(\n",
    "            text='Number of Transactions',\n",
    "            font=dict(size=14)  \n",
    "        ),\n",
    "        tickfont=dict(size=12)  \n",
    "    ),\n",
    "    hovermode='closest',\n",
    "    width=800,  \n",
    "    height=500,  \n",
    "    margin=dict(l=50, r=50, t=80, b=50),  \n",
    "    bargap=0.3  \n",
    ")\n",
    "\n",
    "# Combine the data and layout into a figure\n",
    "fig = go.Figure(data=[trace], layout=layout)\n",
    "\n",
    "# Display the plot\n",
    "iplot(fig)\n",
    "\n",
    "# Print the number of fraudulent transactions\n",
    "print(\"Fraudulent transactions in the dataset:\", bar_plot['values'][1], \"(\", round(bar_plot['values'][1] / data.shape[0] * 100, 2), \"%)\")"
   ]
  },
  {
   "cell_type": "markdown",
   "id": "ae67ec0f",
   "metadata": {},
   "source": [
    "## Transactions Time Density Plot"
   ]
  },
  {
   "cell_type": "code",
   "execution_count": 4,
   "id": "53217328",
   "metadata": {},
   "outputs": [
    {
     "data": {
      "application/vnd.plotly.v1+json": {
       "config": {
        "linkText": "Export to plot.ly",
        "plotlyServerURL": "https://plot.ly",
        "showLink": false
       },
       "data": [
        {
         "legendgroup": "Not Fraud",
         "marker": {
          "color": "green"
         },
         "mode": "lines",
         "name": "Not Fraud",
         "showlegend": true,
         "type": "scatter",
         "x": [
          0,
          0.04799888888888889,
          0.09599777777777778,
          0.14399666666666666,
          0.19199555555555556,
          0.23999444444444445,
          0.2879933333333333,
          0.33599222222222225,
          0.3839911111111111,
          0.43199,
          0.4799888888888889,
          0.5279877777777778,
          0.5759866666666666,
          0.6239855555555556,
          0.6719844444444445,
          0.7199833333333333,
          0.7679822222222222,
          0.8159811111111112,
          0.86398,
          0.9119788888888889,
          0.9599777777777778,
          1.0079766666666667,
          1.0559755555555557,
          1.1039744444444446,
          1.1519733333333333,
          1.1999722222222224,
          1.2479711111111111,
          1.29597,
          1.343968888888889,
          1.391967777777778,
          1.4399666666666666,
          1.4879655555555558,
          1.5359644444444445,
          1.5839633333333334,
          1.6319622222222223,
          1.6799611111111112,
          1.72796,
          1.775958888888889,
          1.8239577777777778,
          1.8719566666666667,
          1.9199555555555556,
          1.9679544444444446,
          2.0159533333333335,
          2.0639522222222224,
          2.1119511111111113,
          2.1599500000000003,
          2.207948888888889,
          2.255947777777778,
          2.3039466666666666,
          2.3519455555555555,
          2.399944444444445,
          2.447943333333334,
          2.4959422222222223,
          2.543941111111111,
          2.59194,
          2.639938888888889,
          2.687937777777778,
          2.735936666666667,
          2.783935555555556,
          2.8319344444444448,
          2.8799333333333332,
          2.927932222222222,
          2.9759311111111115,
          3.0239300000000005,
          3.071928888888889,
          3.119927777777778,
          3.167926666666667,
          3.215925555555556,
          3.2639244444444446,
          3.3119233333333336,
          3.3599222222222225,
          3.4079211111111114,
          3.45592,
          3.5039188888888892,
          3.551917777777778,
          3.599916666666667,
          3.6479155555555556,
          3.6959144444444445,
          3.7439133333333334,
          3.791912222222223,
          3.8399111111111113,
          3.88791,
          3.935908888888889,
          3.983907777777778,
          4.031906666666667,
          4.079905555555556,
          4.127904444444445,
          4.175903333333333,
          4.223902222222223,
          4.271901111111111,
          4.3199000000000005,
          4.367898888888889,
          4.415897777777778,
          4.463896666666667,
          4.511895555555556,
          4.559894444444445,
          4.607893333333333,
          4.6558922222222225,
          4.703891111111111,
          4.75189,
          4.79988888888889,
          4.847887777777778,
          4.895886666666668,
          4.943885555555555,
          4.991884444444445,
          5.039883333333334,
          5.087882222222222,
          5.135881111111112,
          5.18388,
          5.23187888888889,
          5.279877777777778,
          5.327876666666667,
          5.375875555555556,
          5.423874444444444,
          5.471873333333334,
          5.519872222222222,
          5.567871111111112,
          5.615870000000001,
          5.6638688888888895,
          5.711867777777778,
          5.7598666666666665,
          5.807865555555556,
          5.855864444444444,
          5.903863333333334,
          5.951862222222223,
          5.9998611111111115,
          6.047860000000001,
          6.095858888888889,
          6.143857777777778,
          6.191856666666667,
          6.239855555555556,
          6.287854444444445,
          6.335853333333334,
          6.383852222222223,
          6.431851111111112,
          6.479850000000001,
          6.527848888888889,
          6.575847777777778,
          6.623846666666667,
          6.671845555555556,
          6.719844444444445,
          6.767843333333334,
          6.815842222222223,
          6.863841111111112,
          6.91184,
          6.959838888888889,
          7.0078377777777785,
          7.055836666666667,
          7.103835555555556,
          7.151834444444445,
          7.199833333333334,
          7.247832222222223,
          7.295831111111111,
          7.3438300000000005,
          7.391828888888889,
          7.439827777777778,
          7.487826666666667,
          7.535825555555556,
          7.583824444444446,
          7.631823333333334,
          7.6798222222222225,
          7.727821111111111,
          7.77582,
          7.82381888888889,
          7.871817777777778,
          7.919816666666668,
          7.967815555555556,
          8.015814444444445,
          8.063813333333334,
          8.111812222222223,
          8.159811111111113,
          8.207810000000002,
          8.25580888888889,
          8.303807777777777,
          8.351806666666667,
          8.399805555555556,
          8.447804444444445,
          8.495803333333333,
          8.543802222222222,
          8.591801111111112,
          8.639800000000001,
          8.68779888888889,
          8.735797777777778,
          8.783796666666667,
          8.831795555555557,
          8.879794444444446,
          8.927793333333334,
          8.975792222222223,
          9.023791111111112,
          9.07179,
          9.11978888888889,
          9.167787777777777,
          9.215786666666666,
          9.263785555555556,
          9.311784444444445,
          9.359783333333334,
          9.407782222222222,
          9.455781111111111,
          9.50378,
          9.55177888888889,
          9.59977777777778,
          9.647776666666667,
          9.695775555555556,
          9.743774444444446,
          9.791773333333335,
          9.839772222222225,
          9.88777111111111,
          9.93577,
          9.98376888888889,
          10.031767777777779,
          10.079766666666668,
          10.127765555555555,
          10.175764444444445,
          10.223763333333334,
          10.271762222222224,
          10.319761111111111,
          10.36776,
          10.41575888888889,
          10.46375777777778,
          10.511756666666669,
          10.559755555555556,
          10.607754444444446,
          10.655753333333333,
          10.703752222222223,
          10.751751111111112,
          10.79975,
          10.847748888888889,
          10.895747777777778,
          10.943746666666668,
          10.991745555555557,
          11.039744444444445,
          11.087743333333334,
          11.135742222222223,
          11.183741111111113,
          11.231740000000002,
          11.27973888888889,
          11.327737777777779,
          11.375736666666668,
          11.423735555555556,
          11.471734444444445,
          11.519733333333333,
          11.567732222222222,
          11.615731111111112,
          11.663730000000001,
          11.711728888888889,
          11.759727777777778,
          11.807726666666667,
          11.855725555555557,
          11.903724444444446,
          11.951723333333334,
          11.999722222222223,
          12.047721111111112,
          12.095720000000002,
          12.143718888888891,
          12.191717777777779,
          12.239716666666666,
          12.287715555555556,
          12.335714444444445,
          12.383713333333334,
          12.431712222222222,
          12.479711111111111,
          12.52771,
          12.57570888888889,
          12.62370777777778,
          12.671706666666667,
          12.719705555555556,
          12.767704444444446,
          12.815703333333335,
          12.863702222222225,
          12.911701111111112,
          12.959700000000002,
          13.00769888888889,
          13.055697777777779,
          13.103696666666666,
          13.151695555555555,
          13.199694444444445,
          13.247693333333334,
          13.295692222222224,
          13.343691111111111,
          13.39169,
          13.43968888888889,
          13.48768777777778,
          13.535686666666669,
          13.583685555555556,
          13.631684444444446,
          13.679683333333335,
          13.727682222222224,
          13.775681111111114,
          13.82368,
          13.871678888888889,
          13.919677777777778,
          13.967676666666668,
          14.015675555555557,
          14.063674444444445,
          14.111673333333334,
          14.159672222222223,
          14.207671111111113,
          14.255670000000002,
          14.30366888888889,
          14.351667777777779,
          14.399666666666668,
          14.447665555555558,
          14.495664444444445,
          14.543663333333335,
          14.591662222222222,
          14.639661111111112,
          14.687660000000001,
          14.735658888888889,
          14.783657777777778,
          14.831656666666667,
          14.879655555555557,
          14.927654444444446,
          14.975653333333334,
          15.023652222222223,
          15.071651111111112,
          15.119650000000002,
          15.167648888888891,
          15.215647777777779,
          15.263646666666668,
          15.311645555555558,
          15.359644444444445,
          15.407643333333334,
          15.455642222222222,
          15.503641111111111,
          15.55164,
          15.59963888888889,
          15.64763777777778,
          15.695636666666667,
          15.743635555555556,
          15.791634444444446,
          15.839633333333335,
          15.887632222222223,
          15.935631111111112,
          15.983630000000002,
          16.03162888888889,
          16.07962777777778,
          16.127626666666668,
          16.175625555555555,
          16.223624444444447,
          16.271623333333334,
          16.319622222222225,
          16.367621111111113,
          16.415620000000004,
          16.46361888888889,
          16.51161777777778,
          16.559616666666667,
          16.607615555555554,
          16.655614444444446,
          16.703613333333333,
          16.75161222222222,
          16.799611111111112,
          16.84761,
          16.89560888888889,
          16.94360777777778,
          16.991606666666666,
          17.039605555555557,
          17.087604444444445,
          17.135603333333336,
          17.183602222222223,
          17.23160111111111,
          17.279600000000002,
          17.32759888888889,
          17.37559777777778,
          17.42359666666667,
          17.471595555555556,
          17.519594444444447,
          17.567593333333335,
          17.615592222222226,
          17.663591111111113,
          17.71159,
          17.759588888888892,
          17.80758777777778,
          17.855586666666667,
          17.90358555555556,
          17.951584444444446,
          17.999583333333337,
          18.047582222222225,
          18.09558111111111,
          18.14358,
          18.191578888888888,
          18.23957777777778,
          18.287576666666666,
          18.335575555555554,
          18.383574444444445,
          18.431573333333333,
          18.479572222222224,
          18.52757111111111,
          18.57557,
          18.62356888888889,
          18.671567777777778,
          18.71956666666667,
          18.767565555555557,
          18.815564444444444,
          18.863563333333335,
          18.911562222222223,
          18.959561111111114,
          19.00756,
          19.05555888888889,
          19.10355777777778,
          19.151556666666668,
          19.19955555555556,
          19.247554444444447,
          19.295553333333334,
          19.343552222222225,
          19.391551111111113,
          19.439550000000004,
          19.48754888888889,
          19.53554777777778,
          19.58354666666667,
          19.631545555555558,
          19.67954444444445,
          19.727543333333333,
          19.77554222222222,
          19.823541111111112,
          19.87154,
          19.91953888888889,
          19.96753777777778,
          20.015536666666666,
          20.063535555555557,
          20.111534444444445,
          20.159533333333336,
          20.207532222222223,
          20.25553111111111,
          20.303530000000002,
          20.35152888888889,
          20.39952777777778,
          20.44752666666667,
          20.495525555555556,
          20.543524444444447,
          20.591523333333335,
          20.639522222222222,
          20.687521111111113,
          20.73552,
          20.783518888888892,
          20.83151777777778,
          20.879516666666667,
          20.92751555555556,
          20.975514444444446,
          21.023513333333337,
          21.071512222222225,
          21.119511111111112,
          21.167510000000004,
          21.21550888888889,
          21.263507777777782,
          21.311506666666666,
          21.359505555555554,
          21.407504444444445,
          21.455503333333333,
          21.503502222222224,
          21.55150111111111,
          21.5995,
          21.64749888888889,
          21.695497777777778,
          21.74349666666667,
          21.791495555555557,
          21.839494444444444,
          21.887493333333335,
          21.935492222222223,
          21.983491111111114,
          22.03149,
          22.07948888888889,
          22.12748777777778,
          22.175486666666668,
          22.22348555555556,
          22.271484444444447,
          22.319483333333334,
          22.367482222222225,
          22.415481111111113,
          22.463480000000004,
          22.51147888888889,
          22.55947777777778,
          22.60747666666667,
          22.655475555555558,
          22.70347444444445,
          22.751473333333337,
          22.799472222222224,
          22.847471111111112,
          22.89547,
          22.94346888888889,
          22.99146777777778,
          23.039466666666666,
          23.087465555555557,
          23.135464444444445,
          23.183463333333336,
          23.231462222222223,
          23.27946111111111,
          23.327460000000002,
          23.37545888888889,
          23.423457777777777,
          23.47145666666667,
          23.519455555555556,
          23.567454444444447,
          23.615453333333335,
          23.663452222222222,
          23.711451111111113,
          23.75945,
          23.807448888888892,
          23.85544777777778,
          23.903446666666667,
          23.95144555555556
         ],
         "xaxis": "x",
         "y": {
          "bdata": "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",
          "dtype": "f8"
         },
         "yaxis": "y"
        },
        {
         "legendgroup": "Fraud",
         "marker": {
          "color": "red"
         },
         "mode": "lines",
         "name": "Fraud",
         "showlegend": true,
         "type": "scatter",
         "x": [
          0.11277777777777778,
          0.1605388888888889,
          0.20829999999999999,
          0.2560611111111111,
          0.3038222222222222,
          0.35158333333333336,
          0.3993444444444444,
          0.44710555555555553,
          0.4948666666666667,
          0.5426277777777777,
          0.5903888888888889,
          0.6381499999999999,
          0.6859111111111109,
          0.7336722222222222,
          0.7814333333333332,
          0.8291944444444443,
          0.8769555555555555,
          0.9247166666666665,
          0.9724777777777777,
          1.0202388888888887,
          1.068,
          1.1157611111111112,
          1.1635222222222221,
          1.2112833333333333,
          1.2590444444444442,
          1.3068055555555556,
          1.3545666666666667,
          1.4023277777777778,
          1.4500888888888888,
          1.49785,
          1.545611111111111,
          1.593372222222222,
          1.6411333333333333,
          1.6888944444444445,
          1.7366555555555554,
          1.7844166666666665,
          1.8321777777777777,
          1.8799388888888886,
          1.9276999999999997,
          1.9754611111111111,
          2.023222222222222,
          2.070983333333333,
          2.1187444444444443,
          2.1665055555555552,
          2.214266666666666,
          2.262027777777777,
          2.3097888888888884,
          2.3575499999999994,
          2.4053111111111103,
          2.453072222222222,
          2.500833333333333,
          2.5485944444444444,
          2.5963555555555553,
          2.6441166666666662,
          2.6918777777777776,
          2.7396388888888885,
          2.7873999999999994,
          2.835161111111111,
          2.8829222222222217,
          2.9306833333333326,
          2.978444444444444,
          3.026205555555555,
          3.073966666666666,
          3.1217277777777777,
          3.1694888888888886,
          3.2172499999999995,
          3.265011111111111,
          3.312772222222222,
          3.3605333333333327,
          3.408294444444444,
          3.456055555555555,
          3.503816666666666,
          3.5515777777777773,
          3.599338888888888,
          3.647099999999999,
          3.6948611111111105,
          3.7426222222222214,
          3.7903833333333328,
          3.838144444444444,
          3.885905555555555,
          3.9336666666666664,
          3.9814277777777773,
          4.029188888888888,
          4.07695,
          4.124711111111111,
          4.172472222222222,
          4.220233333333333,
          4.267994444444444,
          4.315755555555555,
          4.363516666666666,
          4.4112777777777765,
          4.459038888888888,
          4.506799999999999,
          4.55456111111111,
          4.602322222222221,
          4.650083333333332,
          4.697844444444443,
          4.745605555555556,
          4.7933666666666666,
          4.8411277777777775,
          4.888888888888888,
          4.936649999999999,
          4.984411111111111,
          5.032172222222222,
          5.079933333333333,
          5.127694444444444,
          5.175455555555555,
          5.223216666666666,
          5.2709777777777775,
          5.3187388888888885,
          5.366499999999999,
          5.41426111111111,
          5.462022222222221,
          5.509783333333332,
          5.557544444444444,
          5.605305555555555,
          5.653066666666666,
          5.700827777777777,
          5.748588888888888,
          5.796349999999999,
          5.84411111111111,
          5.891872222222221,
          5.939633333333332,
          5.987394444444443,
          6.035155555555554,
          6.082916666666666,
          6.130677777777778,
          6.178438888888889,
          6.2261999999999995,
          6.27396111111111,
          6.321722222222221,
          6.369483333333333,
          6.417244444444444,
          6.465005555555555,
          6.512766666666666,
          6.560527777777777,
          6.608288888888888,
          6.65605,
          6.7038111111111105,
          6.751572222222221,
          6.799333333333332,
          6.847094444444443,
          6.894855555555554,
          6.942616666666666,
          6.990377777777777,
          7.038138888888888,
          7.085899999999999,
          7.13366111111111,
          7.181422222222221,
          7.229183333333332,
          7.276944444444443,
          7.324705555555554,
          7.372466666666665,
          7.420227777777777,
          7.467988888888888,
          7.51575,
          7.563511111111111,
          7.6112722222222216,
          7.6590333333333325,
          7.706794444444443,
          7.754555555555555,
          7.802316666666666,
          7.850077777777777,
          7.897838888888888,
          7.945599999999999,
          7.99336111111111,
          8.041122222222223,
          8.088883333333333,
          8.136644444444444,
          8.184405555555555,
          8.232166666666666,
          8.279927777777777,
          8.327688888888888,
          8.375449999999999,
          8.42321111111111,
          8.47097222222222,
          8.518733333333332,
          8.566494444444443,
          8.614255555555554,
          8.662016666666664,
          8.709777777777775,
          8.757538888888888,
          8.805299999999999,
          8.85306111111111,
          8.90082222222222,
          8.948583333333332,
          8.996344444444443,
          9.044105555555554,
          9.091866666666665,
          9.139627777777775,
          9.187388888888886,
          9.235149999999997,
          9.282911111111108,
          9.330672222222221,
          9.378433333333334,
          9.426194444444445,
          9.473955555555555,
          9.521716666666666,
          9.569477777777777,
          9.617238888888888,
          9.665,
          9.71276111111111,
          9.760522222222221,
          9.808283333333332,
          9.856044444444445,
          9.903805555555556,
          9.951566666666666,
          9.999327777777777,
          10.047088888888888,
          10.09485,
          10.14261111111111,
          10.190372222222221,
          10.238133333333332,
          10.285894444444443,
          10.333655555555554,
          10.381416666666665,
          10.429177777777777,
          10.476938888888888,
          10.5247,
          10.57246111111111,
          10.620222222222221,
          10.667983333333332,
          10.715744444444443,
          10.763505555555554,
          10.811266666666665,
          10.859027777777776,
          10.906788888888887,
          10.95455,
          11.00231111111111,
          11.050072222222221,
          11.097833333333332,
          11.145594444444443,
          11.193355555555554,
          11.241116666666665,
          11.288877777777776,
          11.336638888888887,
          11.384399999999998,
          11.432161111111109,
          11.47992222222222,
          11.527683333333332,
          11.575444444444443,
          11.623205555555554,
          11.670966666666665,
          11.718727777777776,
          11.766488888888887,
          11.814249999999998,
          11.862011111111109,
          11.90977222222222,
          11.95753333333333,
          12.005294444444441,
          12.053055555555554,
          12.100816666666667,
          12.148577777777778,
          12.196338888888889,
          12.2441,
          12.29186111111111,
          12.339622222222221,
          12.387383333333332,
          12.435144444444443,
          12.482905555555554,
          12.530666666666665,
          12.578427777777776,
          12.626188888888889,
          12.67395,
          12.72171111111111,
          12.769472222222221,
          12.817233333333332,
          12.864994444444443,
          12.912755555555554,
          12.960516666666665,
          13.008277777777776,
          13.056038888888887,
          13.103799999999998,
          13.151561111111109,
          13.199322222222222,
          13.247083333333332,
          13.294844444444443,
          13.342605555555554,
          13.390366666666665,
          13.438127777777776,
          13.485888888888887,
          13.533649999999998,
          13.581411111111109,
          13.62917222222222,
          13.67693333333333,
          13.724694444444442,
          13.772455555555554,
          13.820216666666665,
          13.867977777777776,
          13.915738888888887,
          13.963499999999998,
          14.011261111111109,
          14.05902222222222,
          14.10678333333333,
          14.154544444444442,
          14.202305555555553,
          14.250066666666664,
          14.297827777777776,
          14.345588888888887,
          14.393349999999998,
          14.441111111111109,
          14.48887222222222,
          14.53663333333333,
          14.584394444444442,
          14.632155555555553,
          14.679916666666665,
          14.727677777777776,
          14.775438888888887,
          14.823199999999998,
          14.87096111111111,
          14.918722222222222,
          14.966483333333333,
          15.014244444444444,
          15.062005555555555,
          15.109766666666665,
          15.157527777777776,
          15.205288888888887,
          15.253049999999998,
          15.30081111111111,
          15.34857222222222,
          15.396333333333333,
          15.444094444444444,
          15.491855555555555,
          15.539616666666666,
          15.587377777777776,
          15.635138888888887,
          15.682899999999998,
          15.73066111111111,
          15.77842222222222,
          15.826183333333331,
          15.873944444444442,
          15.921705555555553,
          15.969466666666666,
          16.017227777777777,
          16.064988888888887,
          16.11275,
          16.160511111111113,
          16.208272222222224,
          16.256033333333335,
          16.303794444444446,
          16.351555555555557,
          16.399316666666667,
          16.44707777777778,
          16.49483888888889,
          16.5426,
          16.59036111111111,
          16.638122222222222,
          16.685883333333333,
          16.733644444444444,
          16.781405555555555,
          16.829166666666666,
          16.876927777777777,
          16.924688888888888,
          16.97245,
          17.02021111111111,
          17.06797222222222,
          17.11573333333333,
          17.163494444444442,
          17.211255555555553,
          17.259016666666664,
          17.306777777777775,
          17.35453888888889,
          17.4023,
          17.45006111111111,
          17.497822222222222,
          17.545583333333333,
          17.593344444444444,
          17.641105555555555,
          17.688866666666666,
          17.736627777777777,
          17.784388888888888,
          17.83215,
          17.87991111111111,
          17.92767222222222,
          17.97543333333333,
          18.023194444444442,
          18.070955555555553,
          18.118716666666664,
          18.166477777777775,
          18.214238888888886,
          18.261999999999997,
          18.309761111111108,
          18.35752222222222,
          18.40528333333333,
          18.45304444444444,
          18.500805555555555,
          18.548566666666666,
          18.59632777777778,
          18.64408888888889,
          18.691850000000002,
          18.739611111111113,
          18.787372222222224,
          18.835133333333335,
          18.882894444444446,
          18.930655555555557,
          18.978416666666668,
          19.02617777777778,
          19.07393888888889,
          19.1217,
          19.16946111111111,
          19.217222222222222,
          19.264983333333333,
          19.312744444444444,
          19.360505555555555,
          19.408266666666666,
          19.456027777777777,
          19.503788888888888,
          19.55155,
          19.599311111111113,
          19.647072222222224,
          19.694833333333335,
          19.742594444444446,
          19.790355555555557,
          19.838116666666668,
          19.88587777777778,
          19.93363888888889,
          19.9814,
          20.02916111111111,
          20.076922222222223,
          20.124683333333333,
          20.172444444444444,
          20.220205555555555,
          20.267966666666666,
          20.315727777777777,
          20.363488888888888,
          20.41125,
          20.45901111111111,
          20.50677222222222,
          20.55453333333333,
          20.602294444444443,
          20.650055555555554,
          20.697816666666668,
          20.74557777777778,
          20.79333888888889,
          20.8411,
          20.88886111111111,
          20.936622222222223,
          20.984383333333334,
          21.032144444444445,
          21.079905555555555,
          21.127666666666666,
          21.175427777777777,
          21.223188888888888,
          21.27095,
          21.31871111111111,
          21.36647222222222,
          21.414233333333332,
          21.461994444444443,
          21.509755555555554,
          21.557516666666665,
          21.605277777777776,
          21.653038888888887,
          21.700799999999997,
          21.74856111111111,
          21.796322222222223,
          21.844083333333334,
          21.891844444444445,
          21.939605555555556,
          21.987366666666667,
          22.035127777777777,
          22.08288888888889,
          22.13065,
          22.17841111111111,
          22.22617222222222,
          22.273933333333332,
          22.321694444444443,
          22.369455555555554,
          22.417216666666665,
          22.464977777777776,
          22.512738888888887,
          22.560499999999998,
          22.60826111111111,
          22.65602222222222,
          22.70378333333333,
          22.75154444444444,
          22.799305555555552,
          22.847066666666663,
          22.894827777777774,
          22.94258888888889,
          22.99035,
          23.03811111111111,
          23.08587222222222,
          23.133633333333332,
          23.181394444444443,
          23.229155555555554,
          23.276916666666665,
          23.324677777777776,
          23.372438888888887,
          23.420199999999998,
          23.46796111111111,
          23.51572222222222,
          23.56348333333333,
          23.61124444444444,
          23.659005555555552,
          23.706766666666663,
          23.754527777777774,
          23.802288888888885,
          23.850049999999996,
          23.897811111111107,
          23.945572222222218
         ],
         "xaxis": "x",
         "y": {
          "bdata": "lhF0fiXllT9z1J7a/2+WP3I+1UmR+5Y/7ENGA76Hlz/p/xGDaRSYP+Kbt5V2oZg/5aEyZMcumT8DJsGAPbyZPyBsS/S5SZo/1O9kTB3Xmj8Z892pR2SbP/0F3M8Y8Zs/aklvM3B9nD9hipkLLQmdPy23u2EulJ0/W59dIlMenj8VakMueqeeP8+1w2uCL58/IOlQ2Eq2nz+37xNN2R2gP5LmConMX6A/rnyj9u6goD/b3IebMOGgP3Z/ULWBIKE/o9lMwtJeoT+zFTOKFJyhP/J/ryY42KE/CmTMCy8Toj8XMisQ60yiP0PlB3VehaI/TdD/7Xu8oj8CKJWoNvKiP5vdaFOCJqM/Qp4kJVNZoz+dFQ/jnYqjP+/hROdXuqM/Uf+QJnfooz/9y9818hSkP68pSE/AP6Q/baimVtlopD81EcfdNZCkP/MXGSjPtaQ/yW7tLZ/ZpD8S6jifoPukPxvc2+XOG6U/R0psJyY6pT8bFYJGo1alP4iphONDcaU/1Un6XAaKpT++dlnP6aClP/p3XRTutaU/HHnfwRPJpT8pIjYoXNqlP6cBHlDJ6aU/RIot+F33pT/gzNeRHQOmP4N5AT4MDaY/XQ8syS4Vpj8UfDunihumP7662u4lIKY/X1CEVAcjpj9PxjMlNiSmPweExUC6I6Y/Sp8KFJwhpj9ZapaS5B2mPxGzSzCdGKY/WMWv2s8Rpj+6YQnyhgmmPwLqUULN/6U/IRb/+630pT8th6usNOilPxaQpDdt2qU/dYNjzmPLpT+1yfjoJLulP3Lubj69qaU/7rwrvTmXpT8UYlWDp4OlP2BqQdcTb6U/MUbzH4xZpT+I1K/dHUOlPzRCq6LWK6U/q1XWC8QTpT9/CdC58/qkP0kaAEpz4aQ/F+/eT1DHpD9rBG9OmKykP4y967FYkaQ/0D2xyZ51pD98pGDCd1mkP+XBQ6DwPKQ/1BLzORYgpD9Fi0Az9QKkP81uafiZ5aM/2TCRuRDIoz9IDodmZaqjP53M16qjjKM/QsUs6tZuoz/TH/k8ClGjPwXadW1IM6M/qfrs9JsVoz/8DFT5DviiP8vBNUur2qI/WlfqY3q9oj9vLB5khaCiP0GqpRLVg6I/WXed23Fnoj+ysNXPY0uiP5ywhqSyL6I/VLlNs2UUoj9FqG/6g/mhP+SnXx0U36E/uKmHZRzFoT/SRlDDoquhP698Zc+skqE/k5Q1zD96oT9LX6enYGKhP7XLBP0TS6E/z70WF140oT947G7yQh6hPzVw3D/GCKE/wJEHZ+vzoD+lTjGJtd+gP3v0EoQnzKA/uR7a9EO5oD9TUj07DaegP1RhpXyFlaA/NLdnp66EoD/HoQ12inSgP+6kpHIaZaA/zOIT+l9WoD9HoXI/XEigP231W08QO6A/FaU7E30uoD/dVJBUoyKgP+4kH8CDF6A/NO4U6R4NoD8iYxFMdQOgP4jcMKQO9Z8/hILMpqrknz99SkU0v9WfP2l84MlMyJ8/Si6p0lO8nz8v7Our1LGfP41FWKnPqJ8/GPXCGEWhnz+7voNFNZufP+OOanuglp8/5NZHCYeTnz9rogRD6ZGfP/9dR4PHkZ8/wdGiLCKTnz/tXE2q+ZWfP+AQX3BOmp8/0OCV+yCgnz8Zs5/QcaefPw+/6npBsJ8/tUD9ipC6nz8+LFaUX8afP2Av2Sqv058/be3I33/inz8XClM+0vKfP80Y2WNTAqA/PXl19/4LoD8caRQKbBagPwrS4L+aIaA/sttyLostoD+3AgJaPTqgPwsFdTKxR6A/hbpTkOZVoD9LLJ8x3WSgP551lLaUdKA/GCpfngyFoD+FLMBDRJagP+UHrtk6qKA/z//zZ++6oD//JtXHYM6gPw/juKCN4qA/mk/mZHT3oD/r/VNOEw2hPxqMkVtoI6E/6IjQTHE6oT+lDBKhK1KhP0ZWfpOUaqE/CaPrGKmDoT+cTpndZZ2hP6YgJEPHt6E/6Ha4XsnSoT8bw4b3Z+6hP4iPfoWeCqI/4/dTMGgnoj+lM9POv0SiP9Z6heafYqI/7DOqqwKBoj9A+YYB4p+iPwSgEHs3v6I/3QDvW/zeoj9V1dyZKf+iP9GMZN63H6M/w4b6iJ9Aoz/Sq3Sx2GGjPz3m3ipbg6M/AIKrhh6loz9ZAz4YGsejP5+JzvhE6aM/olyjC5YLpD+Qyp0CBC6kPzYKF2OFUKQ/8mAJixBzpD8WYIG2m5WkP5ahUgUduKQ/8wYLgYrapD+QHR8j2vykP0DxSdsBH6U/LEEalvdApT/hv6ZDsWKlP9PAYt4khKU/OngMckilpT8Cva0iEsalPwcQqDN45qU/14fEDnEGpj92JUBL8yWmP9cFzbT1RKY/TtyAUm9jpj/EI6ltV4GmP32AfZilnqY/4OKotFG7pj86GKL5U9emP4CjzPqk8qY/a+VarT0Npz+p2uptFyenPz751gUsQKc/ZgI1sHVYpz8F9nwe72+nP/+t0nyThqc/Dg/tdV6cpz82JZY2TLGnPyn1v3BZxac/fEAqXoPYpz8I+ZXCx+qnP9Gcg+0k/Kc/KTt6u5kMqD+lZ9WWJRyoPwLqGHjIKqg/w4XJ5YI4qD+fvMrzVUWoP6b+QUJDUag/YEIA/ExcqD/NiXPUdWaoPyFiIgXBb6g/Ge2zSjJ4qD/fhofhzX+oPwCX34GYhqg/EZKjW5eMqD8+pL0R0JGoP4PqGLVIlqg/HYRFvweaqD8AJcgMFJ2oP00pG9d0n6g/43dnrjGhqD85yftyUqKoP14liU7foqg/iqArreCiqD9xiUY2X6KoPylfO8Vjoag/hvwCYvefqD8OeLA5I56oPx465Zbwm6g/D8w92miZqD+I0b5ylZaoPzeLSdZ/k6g/qiAfejGQqD/3yHnLs4yoPzW5QigQiag/hojr10+FqD/4eXEEfIGoP0DVkLOdfag/+ysuwL15qD/DEvvT5HWoP+R/W2Ebcqg/5qCQnWluqD+2li1712qoP+Qh2qRsZ6g/T95meDBkqD8VQjYCKmGoP4Ik/fhfXqg/YCPdudhbqD8iy9pEmlmoP1r3sDmqV6g/kXAC1Q1WqD9pXertyVSoP2Gw6/PiU6g/lVA/7VxTqD+vU4B1O1OoPxU7tbyBU6g/eMS0hjJUqD9YguQqUFWoP/sYT5TcVqg/iagPQtlYqD+2oA9IR1uoP0ryE1AnXqg/lVAWm3lhqD8F+uYCPmWoP5lJE/xzaag/aSQNmBpuqD9GLo+HMHOoP7aPOR20eKg/9vtiUKN+qD8EkxnA+4SoP8ssT7a6i6g/cZUsK92SqD9MQIfIX5qoPyn+dO0+oqg/nk75sXaqqD879MfqArOoP0OMGC3fu6g/NQSH0gbFqD/B6Pz8dM6oPz6vn5ok2Kg/+kHAaRDiqD9XRsj8MuyoP6fBIb6G9qg/xvUV9AUBqT+kgqDEqgupPxQRNDlvFqk/sQRuQk0hqT+e6ra7PiypP+aXzW49N6k/ciI7F0NCqT/pG65lSU2pP3yvOwNKWKk/tHyFlD5jqT/WQcO8IG6pP2CeryDqeKk/M2tXaZSDqT97WMtGGY6pPzaws3JymKk/nEvGspmiqT8W8R7biKypP/t5etA5tqk/LEJViqa/qT8+g+0UycipP8FbKpOb0ak/01loQBjaqT8weCxyOeKpP7+Mvpn56ak/xjesRVPxqT9IazUjQfipPxyro/+9/qk/aCiNycQEqj8F3ASSUAqqP5e/uI1cD6o/zT//FeQTqj+V+NSp4heqP2DAy+5TG6o/ePnrsTMeqj99EInofSCqP2v7CbEuIqo/v3mmU0Ijqj/uvxlDtSOqPxAhSx2EI6o/XDPtq6siqj8+0RPlKCGqP+5Bwev4Hqo/zrpqEBkcqj9cUHTRhhiqP7ZXpNs/FKo//R6OCkIPqj+JzfNoiwmqP/clHzEaA6o/6s8wzez7qT8Ou2XXAfSpPzkdUhpY66k//noRke7hqT/dHmtnxNepPwFW6vnYzKk/aL/p1SvBqT989ZC5vLSpP/fRw5OLp6k/94sChJiZqT9D7jna44qpP87nghZue6k/fbrQ6DdrqT9uFo0wQlqpP4B2IfyNSKk/3h9tiBw2qT+bMydA7yKpPx9RLLsHD6k/blm3vWf6qD8G94Q3EeWoPwyj4UIGz6g/o/ahI0m4qD8ELwVG3KCoP8jkgT3CiKg/ow59w/1vqD/+hOu1kVaoP2RU3hWBPKg/uUr6Bc8hqD+URNvIfgaoP/rdY7+T6qc/m0P6ZhHOpz/t/bJX+7CnP36pakJVk6c/8qnP7iJ1pz+q/lw5aFanP3x2RxEpN6c/AZledmkXpz/SruJ2LfemPxBoUS151qY/ibEqvlC1pj9zWq9VuJOmP4Y6myW0caY/J5bcYkhPpj/aiEpDeSymPz5HXPtKCaY/dhDju8HlpT/urMiv4cGlP0BZ1PmunaU/PP53si15pT8IlaflYVSlP8eRvJBPL6U/IytnoPoJpT+bS6/uZuSkP9LwBkGYvqQ/T7BvRpKYpD9rDLWVWHKkP10zvavuS6Q/wbHx6VclpD/SjsGUl/6jPx4zPtKw16M/J2XUqKawoz/fjiL+e4mjPyRm7ZUzYqM/f/gzEdA6oz/s/WPtUxOjPxs7r4PB66I/YJ2CCBvEoj+bnB+LYpyiP1ZQWPWZdKI/G4ZuC8NMoj9wBhZs3ySiP2MWmpDw/KE/2iEmzffUoT9VWzFR9qyhPzH8DCjthKE/LrCUOd1coT+VlgBLxzShPywj2P+rDKE/xQkF24vkoD9uPwVAZ7ygPy3/OnQ+lKA/FKFZoBFsoD/X9u3R4EOgP0/FAP2rG6A/eK2j++Xmnz+9E1Q1a5afP6VQhQvnRZ8/J3KAvlj1nj+O3X1uv6SePx173R8aVJ4/YCV6v2cDnj9tMRQnp7KdP/jHziHXYZ0/ua+7cPYQnT8CFnHPA8CcP/jQpPj9bpw/74zIquMdnD8VTqKss8ybP9yt3NFse5s//jyK/w0qmz9ieZcwltiaP9vTJnoEh5o/U1DSD1g1mj94YM5HkOOZP2ey6Z6skZk/pctlvKw/mT9raqR1kO2YP2nPpdFXm5g/2j1UDANJmD+OL5mZkvaXP+fuOCgHpJc/sIBxpGFRlz9nA1o6o/6WP0Hq/1fNq5Y/D7o/r+FYlj8JN1c34gWWPy04Ly7RspU/a6FbGbFflT8TUdDGhAyVP3QdSk1PuZQ/J01rDBRmlD96R4us1hKUP+eKOR6bv5M/Dkl0mWVskz+cWpOcOhmTP36M6OoexpI/6JkWixdzkj8hdCDFKSCSP2nGMiBbzZE/4+4pYLF6kT+I7taCMiiRPw==",
          "dtype": "f8"
         },
         "yaxis": "y"
        }
       ],
       "layout": {
        "barmode": "overlay",
        "height": 500,
        "hovermode": "closest",
        "legend": {
         "bgcolor": "rgba(255,255,255,0.5)",
         "bordercolor": "black",
         "borderwidth": 1,
         "font": {
          "size": 12
         },
         "title": {
          "font": {
           "size": 12
          },
          "text": "Fraud Flag"
         },
         "traceorder": "normal"
        },
        "margin": {
         "b": 50,
         "l": 50,
         "r": 50,
         "t": 80
        },
        "template": {
         "data": {
          "bar": [
           {
            "error_x": {
             "color": "#2a3f5f"
            },
            "error_y": {
             "color": "#2a3f5f"
            },
            "marker": {
             "line": {
              "color": "#E5ECF6",
              "width": 0.5
             },
             "pattern": {
              "fillmode": "overlay",
              "size": 10,
              "solidity": 0.2
             }
            },
            "type": "bar"
           }
          ],
          "barpolar": [
           {
            "marker": {
             "line": {
              "color": "#E5ECF6",
              "width": 0.5
             },
             "pattern": {
              "fillmode": "overlay",
              "size": 10,
              "solidity": 0.2
             }
            },
            "type": "barpolar"
           }
          ],
          "carpet": [
           {
            "aaxis": {
             "endlinecolor": "#2a3f5f",
             "gridcolor": "white",
             "linecolor": "white",
             "minorgridcolor": "white",
             "startlinecolor": "#2a3f5f"
            },
            "baxis": {
             "endlinecolor": "#2a3f5f",
             "gridcolor": "white",
             "linecolor": "white",
             "minorgridcolor": "white",
             "startlinecolor": "#2a3f5f"
            },
            "type": "carpet"
           }
          ],
          "choropleth": [
           {
            "colorbar": {
             "outlinewidth": 0,
             "ticks": ""
            },
            "type": "choropleth"
           }
          ],
          "contour": [
           {
            "colorbar": {
             "outlinewidth": 0,
             "ticks": ""
            },
            "colorscale": [
             [
              0,
              "#0d0887"
             ],
             [
              0.1111111111111111,
              "#46039f"
             ],
             [
              0.2222222222222222,
              "#7201a8"
             ],
             [
              0.3333333333333333,
              "#9c179e"
             ],
             [
              0.4444444444444444,
              "#bd3786"
             ],
             [
              0.5555555555555556,
              "#d8576b"
             ],
             [
              0.6666666666666666,
              "#ed7953"
             ],
             [
              0.7777777777777778,
              "#fb9f3a"
             ],
             [
              0.8888888888888888,
              "#fdca26"
             ],
             [
              1,
              "#f0f921"
             ]
            ],
            "type": "contour"
           }
          ],
          "contourcarpet": [
           {
            "colorbar": {
             "outlinewidth": 0,
             "ticks": ""
            },
            "type": "contourcarpet"
           }
          ],
          "heatmap": [
           {
            "colorbar": {
             "outlinewidth": 0,
             "ticks": ""
            },
            "colorscale": [
             [
              0,
              "#0d0887"
             ],
             [
              0.1111111111111111,
              "#46039f"
             ],
             [
              0.2222222222222222,
              "#7201a8"
             ],
             [
              0.3333333333333333,
              "#9c179e"
             ],
             [
              0.4444444444444444,
              "#bd3786"
             ],
             [
              0.5555555555555556,
              "#d8576b"
             ],
             [
              0.6666666666666666,
              "#ed7953"
             ],
             [
              0.7777777777777778,
              "#fb9f3a"
             ],
             [
              0.8888888888888888,
              "#fdca26"
             ],
             [
              1,
              "#f0f921"
             ]
            ],
            "type": "heatmap"
           }
          ],
          "histogram": [
           {
            "marker": {
             "pattern": {
              "fillmode": "overlay",
              "size": 10,
              "solidity": 0.2
             }
            },
            "type": "histogram"
           }
          ],
          "histogram2d": [
           {
            "colorbar": {
             "outlinewidth": 0,
             "ticks": ""
            },
            "colorscale": [
             [
              0,
              "#0d0887"
             ],
             [
              0.1111111111111111,
              "#46039f"
             ],
             [
              0.2222222222222222,
              "#7201a8"
             ],
             [
              0.3333333333333333,
              "#9c179e"
             ],
             [
              0.4444444444444444,
              "#bd3786"
             ],
             [
              0.5555555555555556,
              "#d8576b"
             ],
             [
              0.6666666666666666,
              "#ed7953"
             ],
             [
              0.7777777777777778,
              "#fb9f3a"
             ],
             [
              0.8888888888888888,
              "#fdca26"
             ],
             [
              1,
              "#f0f921"
             ]
            ],
            "type": "histogram2d"
           }
          ],
          "histogram2dcontour": [
           {
            "colorbar": {
             "outlinewidth": 0,
             "ticks": ""
            },
            "colorscale": [
             [
              0,
              "#0d0887"
             ],
             [
              0.1111111111111111,
              "#46039f"
             ],
             [
              0.2222222222222222,
              "#7201a8"
             ],
             [
              0.3333333333333333,
              "#9c179e"
             ],
             [
              0.4444444444444444,
              "#bd3786"
             ],
             [
              0.5555555555555556,
              "#d8576b"
             ],
             [
              0.6666666666666666,
              "#ed7953"
             ],
             [
              0.7777777777777778,
              "#fb9f3a"
             ],
             [
              0.8888888888888888,
              "#fdca26"
             ],
             [
              1,
              "#f0f921"
             ]
            ],
            "type": "histogram2dcontour"
           }
          ],
          "mesh3d": [
           {
            "colorbar": {
             "outlinewidth": 0,
             "ticks": ""
            },
            "type": "mesh3d"
           }
          ],
          "parcoords": [
           {
            "line": {
             "colorbar": {
              "outlinewidth": 0,
              "ticks": ""
             }
            },
            "type": "parcoords"
           }
          ],
          "pie": [
           {
            "automargin": true,
            "type": "pie"
           }
          ],
          "scatter": [
           {
            "fillpattern": {
             "fillmode": "overlay",
             "size": 10,
             "solidity": 0.2
            },
            "type": "scatter"
           }
          ],
          "scatter3d": [
           {
            "line": {
             "colorbar": {
              "outlinewidth": 0,
              "ticks": ""
             }
            },
            "marker": {
             "colorbar": {
              "outlinewidth": 0,
              "ticks": ""
             }
            },
            "type": "scatter3d"
           }
          ],
          "scattercarpet": [
           {
            "marker": {
             "colorbar": {
              "outlinewidth": 0,
              "ticks": ""
             }
            },
            "type": "scattercarpet"
           }
          ],
          "scattergeo": [
           {
            "marker": {
             "colorbar": {
              "outlinewidth": 0,
              "ticks": ""
             }
            },
            "type": "scattergeo"
           }
          ],
          "scattergl": [
           {
            "marker": {
             "colorbar": {
              "outlinewidth": 0,
              "ticks": ""
             }
            },
            "type": "scattergl"
           }
          ],
          "scattermap": [
           {
            "marker": {
             "colorbar": {
              "outlinewidth": 0,
              "ticks": ""
             }
            },
            "type": "scattermap"
           }
          ],
          "scattermapbox": [
           {
            "marker": {
             "colorbar": {
              "outlinewidth": 0,
              "ticks": ""
             }
            },
            "type": "scattermapbox"
           }
          ],
          "scatterpolar": [
           {
            "marker": {
             "colorbar": {
              "outlinewidth": 0,
              "ticks": ""
             }
            },
            "type": "scatterpolar"
           }
          ],
          "scatterpolargl": [
           {
            "marker": {
             "colorbar": {
              "outlinewidth": 0,
              "ticks": ""
             }
            },
            "type": "scatterpolargl"
           }
          ],
          "scatterternary": [
           {
            "marker": {
             "colorbar": {
              "outlinewidth": 0,
              "ticks": ""
             }
            },
            "type": "scatterternary"
           }
          ],
          "surface": [
           {
            "colorbar": {
             "outlinewidth": 0,
             "ticks": ""
            },
            "colorscale": [
             [
              0,
              "#0d0887"
             ],
             [
              0.1111111111111111,
              "#46039f"
             ],
             [
              0.2222222222222222,
              "#7201a8"
             ],
             [
              0.3333333333333333,
              "#9c179e"
             ],
             [
              0.4444444444444444,
              "#bd3786"
             ],
             [
              0.5555555555555556,
              "#d8576b"
             ],
             [
              0.6666666666666666,
              "#ed7953"
             ],
             [
              0.7777777777777778,
              "#fb9f3a"
             ],
             [
              0.8888888888888888,
              "#fdca26"
             ],
             [
              1,
              "#f0f921"
             ]
            ],
            "type": "surface"
           }
          ],
          "table": [
           {
            "cells": {
             "fill": {
              "color": "#EBF0F8"
             },
             "line": {
              "color": "white"
             }
            },
            "header": {
             "fill": {
              "color": "#C8D4E3"
             },
             "line": {
              "color": "white"
             }
            },
            "type": "table"
           }
          ]
         },
         "layout": {
          "annotationdefaults": {
           "arrowcolor": "#2a3f5f",
           "arrowhead": 0,
           "arrowwidth": 1
          },
          "autotypenumbers": "strict",
          "coloraxis": {
           "colorbar": {
            "outlinewidth": 0,
            "ticks": ""
           }
          },
          "colorscale": {
           "diverging": [
            [
             0,
             "#8e0152"
            ],
            [
             0.1,
             "#c51b7d"
            ],
            [
             0.2,
             "#de77ae"
            ],
            [
             0.3,
             "#f1b6da"
            ],
            [
             0.4,
             "#fde0ef"
            ],
            [
             0.5,
             "#f7f7f7"
            ],
            [
             0.6,
             "#e6f5d0"
            ],
            [
             0.7,
             "#b8e186"
            ],
            [
             0.8,
             "#7fbc41"
            ],
            [
             0.9,
             "#4d9221"
            ],
            [
             1,
             "#276419"
            ]
           ],
           "sequential": [
            [
             0,
             "#0d0887"
            ],
            [
             0.1111111111111111,
             "#46039f"
            ],
            [
             0.2222222222222222,
             "#7201a8"
            ],
            [
             0.3333333333333333,
             "#9c179e"
            ],
            [
             0.4444444444444444,
             "#bd3786"
            ],
            [
             0.5555555555555556,
             "#d8576b"
            ],
            [
             0.6666666666666666,
             "#ed7953"
            ],
            [
             0.7777777777777778,
             "#fb9f3a"
            ],
            [
             0.8888888888888888,
             "#fdca26"
            ],
            [
             1,
             "#f0f921"
            ]
           ],
           "sequentialminus": [
            [
             0,
             "#0d0887"
            ],
            [
             0.1111111111111111,
             "#46039f"
            ],
            [
             0.2222222222222222,
             "#7201a8"
            ],
            [
             0.3333333333333333,
             "#9c179e"
            ],
            [
             0.4444444444444444,
             "#bd3786"
            ],
            [
             0.5555555555555556,
             "#d8576b"
            ],
            [
             0.6666666666666666,
             "#ed7953"
            ],
            [
             0.7777777777777778,
             "#fb9f3a"
            ],
            [
             0.8888888888888888,
             "#fdca26"
            ],
            [
             1,
             "#f0f921"
            ]
           ]
          },
          "colorway": [
           "#636efa",
           "#EF553B",
           "#00cc96",
           "#ab63fa",
           "#FFA15A",
           "#19d3f3",
           "#FF6692",
           "#B6E880",
           "#FF97FF",
           "#FECB52"
          ],
          "font": {
           "color": "#2a3f5f"
          },
          "geo": {
           "bgcolor": "white",
           "lakecolor": "white",
           "landcolor": "#E5ECF6",
           "showlakes": true,
           "showland": true,
           "subunitcolor": "white"
          },
          "hoverlabel": {
           "align": "left"
          },
          "hovermode": "closest",
          "mapbox": {
           "style": "light"
          },
          "paper_bgcolor": "white",
          "plot_bgcolor": "#E5ECF6",
          "polar": {
           "angularaxis": {
            "gridcolor": "white",
            "linecolor": "white",
            "ticks": ""
           },
           "bgcolor": "#E5ECF6",
           "radialaxis": {
            "gridcolor": "white",
            "linecolor": "white",
            "ticks": ""
           }
          },
          "scene": {
           "xaxis": {
            "backgroundcolor": "#E5ECF6",
            "gridcolor": "white",
            "gridwidth": 2,
            "linecolor": "white",
            "showbackground": true,
            "ticks": "",
            "zerolinecolor": "white"
           },
           "yaxis": {
            "backgroundcolor": "#E5ECF6",
            "gridcolor": "white",
            "gridwidth": 2,
            "linecolor": "white",
            "showbackground": true,
            "ticks": "",
            "zerolinecolor": "white"
           },
           "zaxis": {
            "backgroundcolor": "#E5ECF6",
            "gridcolor": "white",
            "gridwidth": 2,
            "linecolor": "white",
            "showbackground": true,
            "ticks": "",
            "zerolinecolor": "white"
           }
          },
          "shapedefaults": {
           "line": {
            "color": "#2a3f5f"
           }
          },
          "ternary": {
           "aaxis": {
            "gridcolor": "white",
            "linecolor": "white",
            "ticks": ""
           },
           "baxis": {
            "gridcolor": "white",
            "linecolor": "white",
            "ticks": ""
           },
           "bgcolor": "#E5ECF6",
           "caxis": {
            "gridcolor": "white",
            "linecolor": "white",
            "ticks": ""
           }
          },
          "title": {
           "x": 0.05
          },
          "xaxis": {
           "automargin": true,
           "gridcolor": "white",
           "linecolor": "white",
           "ticks": "",
           "title": {
            "standoff": 15
           },
           "zerolinecolor": "white",
           "zerolinewidth": 2
          },
          "yaxis": {
           "automargin": true,
           "gridcolor": "white",
           "linecolor": "white",
           "ticks": "",
           "title": {
            "standoff": 15
           },
           "zerolinecolor": "white",
           "zerolinewidth": 2
          }
         }
        },
        "title": {
         "font": {
          "color": "black",
          "family": "Arial, sans-serif",
          "size": 18
         },
         "text": "Transactions Time Density Plot (24-Hour Period)",
         "x": 0.5,
         "xanchor": "center"
        },
        "width": 1000,
        "xaxis": {
         "anchor": "y2",
         "domain": [
          0,
          1
         ],
         "gridcolor": "lightgray",
         "ticktext": [
          "0:00",
          "2:00",
          "4:00",
          "6:00",
          "8:00",
          "10:00",
          "12:00",
          "14:00",
          "16:00",
          "18:00",
          "20:00",
          "22:00",
          "24:00"
         ],
         "tickvals": [
          0,
          2,
          4,
          6,
          8,
          10,
          12,
          14,
          16,
          18,
          20,
          22,
          24
         ],
         "title": {
          "font": {
           "size": 14
          },
          "text": "Time of Day"
         },
         "zeroline": false
        },
        "yaxis": {
         "anchor": "free",
         "domain": [
          0,
          1
         ],
         "gridcolor": "lightgray",
         "position": 0,
         "title": {
          "font": {
           "size": 14
          },
          "text": "Density"
         }
        }
       }
      }
     },
     "metadata": {},
     "output_type": "display_data"
    }
   ],
   "source": [
    "# Create a new variable for the density plot data\n",
    "data_for_density_plot = data.copy()\n",
    "data_for_density_plot['Transaction_Hour_24'] = (data_for_density_plot['Transaction_Time'] % (24 * 3600)) / 3600  # Convert seconds to hours (0-24)\n",
    "\n",
    "# Separate the transaction times for fraud and non-fraud cases\n",
    "nfraud = data_for_density_plot.loc[data_for_density_plot['Fraud_Flag'] == 0][\"Transaction_Hour_24\"]\n",
    "fraud = data_for_density_plot.loc[data_for_density_plot['Fraud_Flag'] == 1][\"Transaction_Hour_24\"]\n",
    "\n",
    "# Prepare data for the density plot\n",
    "hist_data = [nfraud, fraud]\n",
    "group_labels = ['Not Fraud', 'Fraud']\n",
    "\n",
    "# Specify colors for the groups (green for not fraud, red for fraud)\n",
    "colors = ['green', 'red']\n",
    "\n",
    "# Create the density plot\n",
    "fig = ff.create_distplot(hist_data, group_labels, show_hist=False, show_rug=False, colors=colors)\n",
    "\n",
    "# Set the layout for the density plot\n",
    "fig.update_layout(\n",
    "    title=dict(\n",
    "        text='Transactions Time Density Plot (24-Hour Period)',\n",
    "        font=dict(size=18, family='Arial, sans-serif', color='black'),\n",
    "        x=0.5,  # Center the title\n",
    "        xanchor='center'\n",
    "    ),\n",
    "    xaxis=dict(\n",
    "        title=dict(\n",
    "            text='Time of Day',\n",
    "            font=dict(size=14)\n",
    "        ),\n",
    "        tickvals=list(range(0, 25, 2)),  # Add ticks every 2 hours\n",
    "        ticktext=[f'{hour}:00' for hour in range(0, 25, 2)],  # Format ticks as \"hour:00\"\n",
    "        gridcolor='lightgray',\n",
    "        zeroline=False\n",
    "    ),\n",
    "    yaxis=dict(\n",
    "        title=dict(\n",
    "            text='Density',\n",
    "            font=dict(size=14)\n",
    "        ),\n",
    "        gridcolor='lightgray'\n",
    "    ),\n",
    "    legend=dict(\n",
    "        title=dict(\n",
    "            text='Fraud Flag',\n",
    "            font=dict(size=12)\n",
    "        ),\n",
    "        font=dict(size=12),\n",
    "        traceorder=\"normal\",\n",
    "        bgcolor='rgba(255,255,255,0.5)',  \n",
    "        bordercolor='black',\n",
    "        borderwidth=1\n",
    "    ),\n",
    "    width=1000,\n",
    "    height=500,\n",
    "    margin=dict(l=50, r=50, t=80, b=50)  \n",
    ")\n",
    "\n",
    "# Display the plot\n",
    "iplot(fig, filename='dist_24_hour')"
   ]
  },
  {
   "cell_type": "markdown",
   "id": "2c250486",
   "metadata": {},
   "source": [
    "##### The fraudulent transactions are more evenly distributed over time compared to the non-fraudulent transactions.  \n",
    "##### The fraudsters may be more active at the beginning of the transaction period, possibly to exploit vulnerabilities before they are detected.\n",
    "##### We can also see that during the night hours, the number of non-fraudulent transactions is very low, which is expected as fewer people are likely to be making transactions during the night (Europe timezones)."
   ]
  },
  {
   "cell_type": "markdown",
   "id": "eb891b92",
   "metadata": {},
   "source": [
    "## Analyzing Transaction Time Patterns"
   ]
  },
  {
   "cell_type": "code",
   "execution_count": 5,
   "id": "00097f9f",
   "metadata": {},
   "outputs": [
    {
     "name": "stdout",
     "output_type": "stream",
     "text": [
      "Grouped Data (First 20 Rows):\n"
     ]
    },
    {
     "data": {
      "text/html": [
       "<div>\n",
       "<style scoped>\n",
       "    .dataframe tbody tr th:only-of-type {\n",
       "        vertical-align: middle;\n",
       "    }\n",
       "\n",
       "    .dataframe tbody tr th {\n",
       "        vertical-align: top;\n",
       "    }\n",
       "\n",
       "    .dataframe thead th {\n",
       "        text-align: right;\n",
       "    }\n",
       "</style>\n",
       "<table border=\"1\" class=\"dataframe\">\n",
       "  <thead>\n",
       "    <tr style=\"text-align: right;\">\n",
       "      <th></th>\n",
       "      <th>Hour</th>\n",
       "      <th>Fraud_Flag</th>\n",
       "      <th>Min</th>\n",
       "      <th>Max</th>\n",
       "      <th>Transactions</th>\n",
       "      <th>Sum</th>\n",
       "      <th>Mean</th>\n",
       "      <th>Median</th>\n",
       "      <th>Variance</th>\n",
       "    </tr>\n",
       "  </thead>\n",
       "  <tbody>\n",
       "    <tr>\n",
       "      <th>0</th>\n",
       "      <td>0.0</td>\n",
       "      <td>0</td>\n",
       "      <td>0.00</td>\n",
       "      <td>7712.43</td>\n",
       "      <td>3961</td>\n",
       "      <td>256572.87</td>\n",
       "      <td>64.774772</td>\n",
       "      <td>12.990</td>\n",
       "      <td>45615.821201</td>\n",
       "    </tr>\n",
       "    <tr>\n",
       "      <th>1</th>\n",
       "      <td>0.0</td>\n",
       "      <td>1</td>\n",
       "      <td>0.00</td>\n",
       "      <td>529.00</td>\n",
       "      <td>2</td>\n",
       "      <td>529.00</td>\n",
       "      <td>264.500000</td>\n",
       "      <td>264.500</td>\n",
       "      <td>139920.500000</td>\n",
       "    </tr>\n",
       "    <tr>\n",
       "      <th>2</th>\n",
       "      <td>1.0</td>\n",
       "      <td>0</td>\n",
       "      <td>0.00</td>\n",
       "      <td>1769.69</td>\n",
       "      <td>2215</td>\n",
       "      <td>145806.76</td>\n",
       "      <td>65.826980</td>\n",
       "      <td>22.820</td>\n",
       "      <td>20053.615770</td>\n",
       "    </tr>\n",
       "    <tr>\n",
       "      <th>3</th>\n",
       "      <td>1.0</td>\n",
       "      <td>1</td>\n",
       "      <td>59.00</td>\n",
       "      <td>239.93</td>\n",
       "      <td>2</td>\n",
       "      <td>298.93</td>\n",
       "      <td>149.465000</td>\n",
       "      <td>149.465</td>\n",
       "      <td>16367.832450</td>\n",
       "    </tr>\n",
       "    <tr>\n",
       "      <th>4</th>\n",
       "      <td>2.0</td>\n",
       "      <td>0</td>\n",
       "      <td>0.00</td>\n",
       "      <td>4002.88</td>\n",
       "      <td>1555</td>\n",
       "      <td>106989.39</td>\n",
       "      <td>68.803466</td>\n",
       "      <td>17.900</td>\n",
       "      <td>45355.430437</td>\n",
       "    </tr>\n",
       "    <tr>\n",
       "      <th>5</th>\n",
       "      <td>2.0</td>\n",
       "      <td>1</td>\n",
       "      <td>1.00</td>\n",
       "      <td>1809.68</td>\n",
       "      <td>21</td>\n",
       "      <td>1829.78</td>\n",
       "      <td>87.132381</td>\n",
       "      <td>1.000</td>\n",
       "      <td>155776.441219</td>\n",
       "    </tr>\n",
       "    <tr>\n",
       "      <th>6</th>\n",
       "      <td>3.0</td>\n",
       "      <td>0</td>\n",
       "      <td>0.00</td>\n",
       "      <td>1903.26</td>\n",
       "      <td>1808</td>\n",
       "      <td>94086.79</td>\n",
       "      <td>52.039154</td>\n",
       "      <td>15.950</td>\n",
       "      <td>16741.786661</td>\n",
       "    </tr>\n",
       "    <tr>\n",
       "      <th>7</th>\n",
       "      <td>3.0</td>\n",
       "      <td>1</td>\n",
       "      <td>0.00</td>\n",
       "      <td>179.66</td>\n",
       "      <td>13</td>\n",
       "      <td>220.05</td>\n",
       "      <td>16.926923</td>\n",
       "      <td>1.000</td>\n",
       "      <td>2457.208190</td>\n",
       "    </tr>\n",
       "    <tr>\n",
       "      <th>8</th>\n",
       "      <td>4.0</td>\n",
       "      <td>0</td>\n",
       "      <td>0.00</td>\n",
       "      <td>2126.13</td>\n",
       "      <td>1076</td>\n",
       "      <td>79050.36</td>\n",
       "      <td>73.466877</td>\n",
       "      <td>15.950</td>\n",
       "      <td>24416.863654</td>\n",
       "    </tr>\n",
       "    <tr>\n",
       "      <th>9</th>\n",
       "      <td>4.0</td>\n",
       "      <td>1</td>\n",
       "      <td>1.00</td>\n",
       "      <td>766.36</td>\n",
       "      <td>6</td>\n",
       "      <td>790.26</td>\n",
       "      <td>131.710000</td>\n",
       "      <td>3.860</td>\n",
       "      <td>96679.482040</td>\n",
       "    </tr>\n",
       "    <tr>\n",
       "      <th>10</th>\n",
       "      <td>5.0</td>\n",
       "      <td>0</td>\n",
       "      <td>0.00</td>\n",
       "      <td>1912.89</td>\n",
       "      <td>1670</td>\n",
       "      <td>75709.25</td>\n",
       "      <td>45.334880</td>\n",
       "      <td>11.850</td>\n",
       "      <td>15318.242592</td>\n",
       "    </tr>\n",
       "    <tr>\n",
       "      <th>11</th>\n",
       "      <td>5.0</td>\n",
       "      <td>1</td>\n",
       "      <td>1.00</td>\n",
       "      <td>1218.89</td>\n",
       "      <td>11</td>\n",
       "      <td>1416.67</td>\n",
       "      <td>128.788182</td>\n",
       "      <td>1.000</td>\n",
       "      <td>133888.936696</td>\n",
       "    </tr>\n",
       "    <tr>\n",
       "      <th>12</th>\n",
       "      <td>6.0</td>\n",
       "      <td>0</td>\n",
       "      <td>0.00</td>\n",
       "      <td>1986.92</td>\n",
       "      <td>1828</td>\n",
       "      <td>142299.38</td>\n",
       "      <td>77.844300</td>\n",
       "      <td>15.955</td>\n",
       "      <td>33492.739825</td>\n",
       "    </tr>\n",
       "    <tr>\n",
       "      <th>13</th>\n",
       "      <td>6.0</td>\n",
       "      <td>1</td>\n",
       "      <td>1.00</td>\n",
       "      <td>99.99</td>\n",
       "      <td>3</td>\n",
       "      <td>104.11</td>\n",
       "      <td>34.703333</td>\n",
       "      <td>3.120</td>\n",
       "      <td>3197.885233</td>\n",
       "    </tr>\n",
       "    <tr>\n",
       "      <th>14</th>\n",
       "      <td>7.0</td>\n",
       "      <td>0</td>\n",
       "      <td>0.00</td>\n",
       "      <td>6130.21</td>\n",
       "      <td>3345</td>\n",
       "      <td>270548.20</td>\n",
       "      <td>80.881375</td>\n",
       "      <td>21.950</td>\n",
       "      <td>53190.240366</td>\n",
       "    </tr>\n",
       "    <tr>\n",
       "      <th>15</th>\n",
       "      <td>7.0</td>\n",
       "      <td>1</td>\n",
       "      <td>3.76</td>\n",
       "      <td>730.86</td>\n",
       "      <td>23</td>\n",
       "      <td>2757.78</td>\n",
       "      <td>119.903478</td>\n",
       "      <td>99.990</td>\n",
       "      <td>18364.034296</td>\n",
       "    </tr>\n",
       "    <tr>\n",
       "      <th>16</th>\n",
       "      <td>8.0</td>\n",
       "      <td>0</td>\n",
       "      <td>0.00</td>\n",
       "      <td>7879.42</td>\n",
       "      <td>5174</td>\n",
       "      <td>469638.61</td>\n",
       "      <td>90.768962</td>\n",
       "      <td>27.860</td>\n",
       "      <td>66935.333965</td>\n",
       "    </tr>\n",
       "    <tr>\n",
       "      <th>17</th>\n",
       "      <td>8.0</td>\n",
       "      <td>1</td>\n",
       "      <td>0.68</td>\n",
       "      <td>104.81</td>\n",
       "      <td>5</td>\n",
       "      <td>137.15</td>\n",
       "      <td>27.430000</td>\n",
       "      <td>0.680</td>\n",
       "      <td>2035.647200</td>\n",
       "    </tr>\n",
       "    <tr>\n",
       "      <th>18</th>\n",
       "      <td>9.0</td>\n",
       "      <td>0</td>\n",
       "      <td>0.00</td>\n",
       "      <td>7429.15</td>\n",
       "      <td>7863</td>\n",
       "      <td>800360.93</td>\n",
       "      <td>101.788240</td>\n",
       "      <td>30.140</td>\n",
       "      <td>67488.645824</td>\n",
       "    </tr>\n",
       "    <tr>\n",
       "      <th>19</th>\n",
       "      <td>9.0</td>\n",
       "      <td>1</td>\n",
       "      <td>0.00</td>\n",
       "      <td>717.15</td>\n",
       "      <td>15</td>\n",
       "      <td>1110.79</td>\n",
       "      <td>74.052667</td>\n",
       "      <td>14.460</td>\n",
       "      <td>33239.610392</td>\n",
       "    </tr>\n",
       "  </tbody>\n",
       "</table>\n",
       "</div>"
      ],
      "text/plain": [
       "    Hour  Fraud_Flag    Min      Max  Transactions        Sum        Mean  \\\n",
       "0    0.0           0   0.00  7712.43          3961  256572.87   64.774772   \n",
       "1    0.0           1   0.00   529.00             2     529.00  264.500000   \n",
       "2    1.0           0   0.00  1769.69          2215  145806.76   65.826980   \n",
       "3    1.0           1  59.00   239.93             2     298.93  149.465000   \n",
       "4    2.0           0   0.00  4002.88          1555  106989.39   68.803466   \n",
       "5    2.0           1   1.00  1809.68            21    1829.78   87.132381   \n",
       "6    3.0           0   0.00  1903.26          1808   94086.79   52.039154   \n",
       "7    3.0           1   0.00   179.66            13     220.05   16.926923   \n",
       "8    4.0           0   0.00  2126.13          1076   79050.36   73.466877   \n",
       "9    4.0           1   1.00   766.36             6     790.26  131.710000   \n",
       "10   5.0           0   0.00  1912.89          1670   75709.25   45.334880   \n",
       "11   5.0           1   1.00  1218.89            11    1416.67  128.788182   \n",
       "12   6.0           0   0.00  1986.92          1828  142299.38   77.844300   \n",
       "13   6.0           1   1.00    99.99             3     104.11   34.703333   \n",
       "14   7.0           0   0.00  6130.21          3345  270548.20   80.881375   \n",
       "15   7.0           1   3.76   730.86            23    2757.78  119.903478   \n",
       "16   8.0           0   0.00  7879.42          5174  469638.61   90.768962   \n",
       "17   8.0           1   0.68   104.81             5     137.15   27.430000   \n",
       "18   9.0           0   0.00  7429.15          7863  800360.93  101.788240   \n",
       "19   9.0           1   0.00   717.15            15    1110.79   74.052667   \n",
       "\n",
       "     Median       Variance  \n",
       "0    12.990   45615.821201  \n",
       "1   264.500  139920.500000  \n",
       "2    22.820   20053.615770  \n",
       "3   149.465   16367.832450  \n",
       "4    17.900   45355.430437  \n",
       "5     1.000  155776.441219  \n",
       "6    15.950   16741.786661  \n",
       "7     1.000    2457.208190  \n",
       "8    15.950   24416.863654  \n",
       "9     3.860   96679.482040  \n",
       "10   11.850   15318.242592  \n",
       "11    1.000  133888.936696  \n",
       "12   15.955   33492.739825  \n",
       "13    3.120    3197.885233  \n",
       "14   21.950   53190.240366  \n",
       "15   99.990   18364.034296  \n",
       "16   27.860   66935.333965  \n",
       "17    0.680    2035.647200  \n",
       "18   30.140   67488.645824  \n",
       "19   14.460   33239.610392  "
      ]
     },
     "metadata": {},
     "output_type": "display_data"
    }
   ],
   "source": [
    "# Convert Transaction_Time from seconds to hours (0-24)\n",
    "data['Hour'] = data['Transaction_Time'].apply(lambda x: np.floor(x / 3600))\n",
    "\n",
    "# Group the data by 'Hour' and 'Fraud_Flag', and calculate statistics for 'Transaction_Amount'\n",
    "data_grouped = data.groupby(['Hour', 'Fraud_Flag'])['Transaction_Amount'].aggregate(\n",
    "    ['min', 'max', 'count', 'sum', 'mean', 'median', 'var']\n",
    ").reset_index()\n",
    "\n",
    "# Convert the grouped data into a DataFrame\n",
    "data_grouped_df = pd.DataFrame(data_grouped)\n",
    "\n",
    "# Rename columns for better readability\n",
    "data_grouped_df.columns = [\n",
    "    'Hour',          # Hour of the day (0-24)\n",
    "    'Fraud_Flag',    # Fraud flag (0 = Not Fraud, 1 = Fraud)\n",
    "    'Min',           # Minimum transaction amount\n",
    "    'Max',           # Maximum transaction amount\n",
    "    'Transactions',  # Number of transactions\n",
    "    'Sum',           # Total transaction amount\n",
    "    'Mean',          # Average transaction amount\n",
    "    'Median',        # Median transaction amount\n",
    "    'Variance'       # Variance of transaction amounts\n",
    "]\n",
    "\n",
    "# Display the first 20 rows of the grouped DataFrame\n",
    "print(\"Grouped Data (First 20 Rows):\")\n",
    "display(data_grouped_df.head(20))"
   ]
  },
  {
   "cell_type": "markdown",
   "id": "89221198",
   "metadata": {},
   "source": [
    "## Total Transaction Value by Hour "
   ]
  },
  {
   "cell_type": "code",
   "execution_count": 18,
   "id": "c547ff9a",
   "metadata": {},
   "outputs": [
    {
     "data": {
      "image/png": "[encoded data removed]",
      "text/plain": [
       "<Figure size 1800x600 with 2 Axes>"
      ]
     },
     "metadata": {},
     "output_type": "display_data"
    }
   ],
   "source": [
    "# Filter the data to include only a 24-hour period\n",
    "data_grouped_df_24h = data_grouped_df[data_grouped_df['Hour'].between(1, 24)]\n",
    "\n",
    "# Create a line chart\n",
    "fig, (ax1, ax2) = plt.subplots(ncols=2, figsize=(18, 6), dpi=100, gridspec_kw={'wspace': 0.2})\n",
    "\n",
    "# Plot for non-fraudulent transactions\n",
    "sns.lineplot(\n",
    "    ax=ax1, \n",
    "    x=\"Hour\", \n",
    "    y=\"Sum\", \n",
    "    data=data_grouped_df_24h.loc[data_grouped_df_24h.Fraud_Flag == 0], \n",
    "    color=\"green\", \n",
    "    linewidth=2.5, \n",
    "    )\n",
    "ax1.set_title(\"Non-Fraudulent Transactions\", fontsize=14, fontweight=\"bold\")\n",
    "ax1.set_xlabel(\"Hour of Day\", fontsize=12)\n",
    "ax1.set_ylabel(\"Sum of Transactions\", fontsize=12)\n",
    "ax1.set_xticks(range(1, 25))\n",
    "ax1.grid(visible=True, linestyle=\"--\", alpha=0.6)\n",
    "\n",
    "# Plot for fraudulent transactions\n",
    "sns.lineplot(\n",
    "    ax=ax2, \n",
    "    x=\"Hour\", \n",
    "    y=\"Sum\", \n",
    "    data=data_grouped_df_24h.loc[data_grouped_df_24h.Fraud_Flag == 1], \n",
    "    color=\"red\", \n",
    "    linewidth=2.5, \n",
    "    )\n",
    "ax2.set_title(\"Fraudulent Transactions\", fontsize=14, fontweight=\"bold\")\n",
    "ax2.set_xlabel(\"Hour of Day\", fontsize=12)\n",
    "ax2.set_ylabel(\"Sum of Transactions\", fontsize=12)\n",
    "ax2.set_xticks(range(1, 25))\n",
    "ax2.grid(visible=True, linestyle=\"--\", alpha=0.6)\n",
    "\n",
    "# Set the title\n",
    "plt.suptitle(\"Total Transaction Value (24-Hour Period)\", fontsize=16, fontweight=\"bold\")\n",
    "\n",
    "# Adjust the layout so that the title doesn't overlap with the plots\n",
    "plt.subplots_adjust(top=0.85)  \n",
    "#plt.tight_layout(rect=[0, 0, 1, 0.95]) - uncomment if needed for better spacing\n",
    "\n",
    "# Display the plot\n",
    "plt.show()"
   ]
  },
  {
   "cell_type": "markdown",
   "id": "e8a0d7b7",
   "metadata": {},
   "source": [
    "## Number of Transaction by Hour"
   ]
  },
  {
   "cell_type": "code",
   "execution_count": 7,
   "id": "919ec0f8",
   "metadata": {},
   "outputs": [
    {
     "data": {
      "image/png": "[encoded data removed]",
      "text/plain": [
       "<Figure size 1800x600 with 2 Axes>"
      ]
     },
     "metadata": {},
     "output_type": "display_data"
    }
   ],
   "source": [
    "# Create a line chart\n",
    "fig, (ax1, ax2) = plt.subplots(ncols=2, figsize=(18, 6), dpi=100, gridspec_kw={'wspace': 0.3})\n",
    "\n",
    "# Plot for non-fraudulent transactions\n",
    "sns.lineplot(\n",
    "    ax=ax1, \n",
    "    x=\"Hour\", \n",
    "    y=\"Transactions\", \n",
    "    data=data_grouped_df_24h.loc[data_grouped_df_24h.Fraud_Flag == 0], \n",
    "    color=\"green\", \n",
    "    linewidth=2.5, \n",
    "    )\n",
    "ax1.set_title(\"Non-Fraudulent Transactions\", fontsize=14, fontweight=\"bold\")\n",
    "ax1.set_xlabel(\"Hour of Day\", fontsize=12)\n",
    "ax1.set_ylabel(\"Number of Transactions\", fontsize=12)\n",
    "ax1.set_xticks(range(1, 25))\n",
    "ax1.grid(visible=True, linestyle=\"--\", alpha=0.6)\n",
    "\n",
    "# Plot for fraudulent transactions\n",
    "sns.lineplot(\n",
    "    ax=ax2, \n",
    "    x=\"Hour\", \n",
    "    y=\"Transactions\", \n",
    "    data=data_grouped_df_24h.loc[data_grouped_df_24h.Fraud_Flag == 1], \n",
    "    color=\"red\", \n",
    "    linewidth=2.5, \n",
    "    )\n",
    "ax2.set_title(\"Fraudulent Transactions\", fontsize=14, fontweight=\"bold\")\n",
    "ax2.set_xlabel(\"Hour of Day\", fontsize=12)\n",
    "ax2.set_ylabel(\"Number of Transactions\", fontsize=12)\n",
    "ax2.set_xticks(range(1, 25))\n",
    "ax2.grid(visible=True, linestyle=\"--\", alpha=0.6)\n",
    "\n",
    "# Set the title\n",
    "plt.suptitle(\"Total Number of Transactions (24-Hour Period)\", fontsize=16, fontweight=\"bold\")\n",
    "\n",
    "# Adjust the layout so that the title doesn't overlap with the plots\n",
    "plt.subplots_adjust(top=0.85)  \n",
    "#plt.tight_layout(rect=[0, 0, 1, 0.95]) - uncomment if needed for better spacing\n",
    "\n",
    "# Display the plot\n",
    "plt.show()"
   ]
  },
  {
   "cell_type": "markdown",
   "id": "a0cbadb6",
   "metadata": {},
   "source": [
    "## Average Value of Transaction by Hour"
   ]
  },
  {
   "cell_type": "code",
   "execution_count": 20,
   "id": "f2d5c331",
   "metadata": {},
   "outputs": [
    {
     "data": {
      "image/png": "[encoded data removed]",
      "text/plain": [
       "<Figure size 1800x600 with 2 Axes>"
      ]
     },
     "metadata": {},
     "output_type": "display_data"
    }
   ],
   "source": [
    "# Create a line chart\n",
    "fig, (ax1, ax2) = plt.subplots(ncols=2, figsize=(18, 6), dpi=100, gridspec_kw={'wspace': 0.3})\n",
    "\n",
    "# Plot for non-fraudulent transactions\n",
    "sns.lineplot(\n",
    "    ax=ax1, \n",
    "    x=\"Hour\", \n",
    "    y=\"Mean\", \n",
    "    data=data_grouped_df_24h.loc[data_grouped_df_24h.Fraud_Flag == 0], \n",
    "    color=\"green\", \n",
    "    linewidth=2.5, \n",
    "    )\n",
    "ax1.set_title(\"Non-Fraudulent Transactions\", fontsize=14, fontweight=\"bold\")\n",
    "ax1.set_xlabel(\"Hour of Day\", fontsize=12)\n",
    "ax1.set_ylabel(\"Average Transactions\", fontsize=12)\n",
    "ax1.set_xticks(range(1, 25))\n",
    "ax1.grid(visible=True, linestyle=\"--\", alpha=0.6)\n",
    "\n",
    "# Plot for fraudulent transactions\n",
    "sns.lineplot(\n",
    "    ax=ax2, \n",
    "    x=\"Hour\", \n",
    "    y=\"Mean\", \n",
    "    data=data_grouped_df_24h.loc[data_grouped_df_24h.Fraud_Flag == 1], \n",
    "    color=\"red\", \n",
    "    linewidth=2.5, \n",
    "    )\n",
    "ax2.set_title(\"Fraudulent Transactions\", fontsize=14, fontweight=\"bold\")\n",
    "ax2.set_xlabel(\"Hour of Day\", fontsize=12)\n",
    "ax2.set_ylabel(\"Average Transactions\", fontsize=12)\n",
    "ax2.set_xticks(range(1, 25))\n",
    "ax2.grid(visible=True, linestyle=\"--\", alpha=0.6)\n",
    "\n",
    "# Set the title\n",
    "plt.suptitle(\"Average Value of Transactions (24-Hour Period)\", fontsize=16, fontweight=\"bold\")\n",
    "\n",
    "# Adjust the layout so that the title doesn't overlap with the plots\n",
    "plt.subplots_adjust(top=0.85)  \n",
    "#plt.tight_layout(rect=[0, 0, 1, 0.95]) - uncomment if needed for better spacing\n",
    "\n",
    "# Display the plot\n",
    "plt.show()"
   ]
  },
  {
   "cell_type": "markdown",
   "id": "edadd5b8",
   "metadata": {},
   "source": [
    "## Median Transaction Value by Hour"
   ]
  },
  {
   "cell_type": "code",
   "execution_count": 21,
   "id": "7fcc3766",
   "metadata": {},
   "outputs": [
    {
     "data": {
      "image/png": "[encoded data removed]",
      "text/plain": [
       "<Figure size 1800x600 with 2 Axes>"
      ]
     },
     "metadata": {},
     "output_type": "display_data"
    }
   ],
   "source": [
    "# Create a line chart\n",
    "fig, (ax1, ax2) = plt.subplots(ncols=2, figsize=(18, 6), dpi=100, gridspec_kw={'wspace': 0.3})\n",
    "\n",
    "# Plot for non-fraudulent transactions\n",
    "sns.lineplot(\n",
    "    ax=ax1, \n",
    "    x=\"Hour\", \n",
    "    y=\"Median\",  # \n",
    "    data=data_grouped_df_24h.loc[data_grouped_df_24h.Fraud_Flag == 0], \n",
    "    color=\"green\", \n",
    "    linewidth=2.5, \n",
    "    )\n",
    "ax1.set_title(\"Non-Fraudulent Transactions\", fontsize=14, fontweight=\"bold\")\n",
    "ax1.set_xlabel(\"Hour of Day\", fontsize=12)\n",
    "ax1.set_ylabel(\"Median Transactions\", fontsize=12)  \n",
    "ax1.set_xticks(range(1, 25))\n",
    "ax1.grid(visible=True, linestyle=\"--\", alpha=0.6)\n",
    "\n",
    "# Plot for fraudulent transactions\n",
    "sns.lineplot(\n",
    "    ax=ax2, \n",
    "    x=\"Hour\", \n",
    "    y=\"Median\",  \n",
    "    data=data_grouped_df_24h.loc[data_grouped_df_24h.Fraud_Flag == 1], \n",
    "    color=\"red\", \n",
    "    linewidth=2.5, \n",
    "    )\n",
    "ax2.set_title(\"Fraudulent Transactions\", fontsize=14, fontweight=\"bold\")\n",
    "ax2.set_xlabel(\"Hour of Day\", fontsize=12)\n",
    "ax2.set_ylabel(\"Median Transactions\", fontsize=12)  \n",
    "ax2.set_xticks(range(1, 25))\n",
    "ax2.grid(visible=True, linestyle=\"--\", alpha=0.6)\n",
    "\n",
    "# Set the title\n",
    "plt.suptitle(\"Median Value of Transactions (24-Hour Period)\", fontsize=16, fontweight=\"bold\")\n",
    "\n",
    "# Adjust the layout so that the title doesn't overlap with the plots\n",
    "plt.subplots_adjust(top=0.85)  \n",
    "#plt.tight_layout(rect=[0, 0, 1, 0.95]) - uncomment if needed for better spacing\n",
    "\n",
    "# Display the plot\n",
    "plt.show()"
   ]
  },
  {
   "cell_type": "markdown",
   "id": "8bb9db2e",
   "metadata": {},
   "source": [
    "## Maximum Transaction by Hour"
   ]
  },
  {
   "cell_type": "code",
   "execution_count": 22,
   "id": "d6efcea2",
   "metadata": {},
   "outputs": [
    {
     "data": {
      "image/png": "[encoded data removed]",
      "text/plain": [
       "<Figure size 1800x600 with 2 Axes>"
      ]
     },
     "metadata": {},
     "output_type": "display_data"
    }
   ],
   "source": [
    "# Create a line chart\n",
    "fig, (ax1, ax2) = plt.subplots(ncols=2, figsize=(18, 6), dpi=100, gridspec_kw={'wspace': 0.3})\n",
    "\n",
    "# Plot for non-fraudulent transactions\n",
    "sns.lineplot(\n",
    "    ax=ax1, \n",
    "    x=\"Hour\", \n",
    "    y=\"Max\",  # Use Max instead of Median\n",
    "    data=data_grouped_df_24h.loc[data_grouped_df_24h.Fraud_Flag == 0], \n",
    "    color=\"green\", \n",
    "    linewidth=2.5, \n",
    "    )\n",
    "ax1.set_title(\"Non-Fraudulent Transactions\", fontsize=14, fontweight=\"bold\")\n",
    "ax1.set_xlabel(\"Hour of Day\", fontsize=12)\n",
    "ax1.set_ylabel(\"Max Transactions\", fontsize=12)  # Update label to reflect Max\n",
    "ax1.set_xticks(range(1, 25))\n",
    "ax1.grid(visible=True, linestyle=\"--\", alpha=0.6)\n",
    "\n",
    "# Plot for fraudulent transactions\n",
    "sns.lineplot(\n",
    "    ax=ax2, \n",
    "    x=\"Hour\", \n",
    "    y=\"Max\",  # Use Max instead of Median\n",
    "    data=data_grouped_df_24h.loc[data_grouped_df_24h.Fraud_Flag == 1], \n",
    "    color=\"red\", \n",
    "    linewidth=2.5, \n",
    "    )\n",
    "ax2.set_title(\"Fraudulent Transactions\", fontsize=14, fontweight=\"bold\")\n",
    "ax2.set_xlabel(\"Hour of Day\", fontsize=12)\n",
    "ax2.set_ylabel(\"Max Transactions\", fontsize=12)  # Update label to reflect Max\n",
    "ax2.set_xticks(range(1, 25))\n",
    "ax2.grid(visible=True, linestyle=\"--\", alpha=0.6)\n",
    "\n",
    "# Set the title\n",
    "plt.suptitle(\"Maximum Value of Transactions (24-Hour Period)\", fontsize=16, fontweight=\"bold\")\n",
    "\n",
    "# Adjust the layout so that the title doesn't overlap with the plots\n",
    "plt.subplots_adjust(top=0.85)  \n",
    "#plt.tight_layout(rect=[0, 0, 1, 0.95]) - uncomment if needed for better spacing\n",
    "\n",
    "# Display the plot\n",
    "plt.show()"
   ]
  },
  {
   "cell_type": "markdown",
   "id": "2a688256",
   "metadata": {},
   "source": [
    "## Minimum Transaction by Hour"
   ]
  },
  {
   "cell_type": "code",
   "execution_count": 23,
   "id": "e78a41b0",
   "metadata": {},
   "outputs": [
    {
     "data": {
      "image/png": "[encoded data removed]",
      "text/plain": [
       "<Figure size 1800x600 with 2 Axes>"
      ]
     },
     "metadata": {},
     "output_type": "display_data"
    }
   ],
   "source": [
    "# Create a line chart\n",
    "fig, (ax1, ax2) = plt.subplots(ncols=2, figsize=(18, 6), dpi=100, gridspec_kw={'wspace': 0.3})\n",
    "\n",
    "# Plot for non-fraudulent transactions\n",
    "sns.lineplot(\n",
    "    ax=ax1, \n",
    "    x=\"Hour\", \n",
    "    y=\"Min\",  # Use Min instead of Max\n",
    "    data=data_grouped_df_24h.loc[data_grouped_df_24h.Fraud_Flag == 0], \n",
    "    color=\"green\", \n",
    "    linewidth=2.5, \n",
    ")\n",
    "ax1.set_title(\"Non-Fraudulent Transactions\", fontsize=14, fontweight=\"bold\")\n",
    "ax1.set_xlabel(\"Hour of Day\", fontsize=12)\n",
    "ax1.set_ylabel(\"Min Transactions\", fontsize=12)  # Update label to reflect Min\n",
    "ax1.set_xticks(range(1, 25))\n",
    "ax1.grid(visible=True, linestyle=\"--\", alpha=0.6)\n",
    "\n",
    "# Plot for fraudulent transactions\n",
    "sns.lineplot(\n",
    "    ax=ax2, \n",
    "    x=\"Hour\", \n",
    "    y=\"Min\",  # Use Min instead of Max\n",
    "    data=data_grouped_df_24h.loc[data_grouped_df_24h.Fraud_Flag == 1], \n",
    "    color=\"red\", \n",
    "    linewidth=2.5, \n",
    ")\n",
    "ax2.set_title(\"Fraudulent Transactions\", fontsize=14, fontweight=\"bold\")\n",
    "ax2.set_xlabel(\"Hour of Day\", fontsize=12)\n",
    "ax2.set_ylabel(\"Min Transactions\", fontsize=12)  # Update label to reflect Min\n",
    "ax2.set_xticks(range(1, 25))\n",
    "ax2.grid(visible=True, linestyle=\"--\", alpha=0.6)\n",
    "\n",
    "# Set the title\n",
    "plt.suptitle(\"Minimum Value of Transactions (24-Hour Period)\", fontsize=16, fontweight=\"bold\")\n",
    "\n",
    "# Adjust the layout so that the title doesn't overlap with the plots\n",
    "plt.subplots_adjust(top=0.85)  \n",
    "#plt.tight_layout(rect=[0, 0, 1, 0.95]) - uncomment if needed for better spacing\n",
    "\n",
    "# Display the plot\n",
    "plt.show()\n",
    "\n",
    "# Peaks removed from the Min plot, as they are not relevant for the Min value."
   ]
  },
  {
   "cell_type": "markdown",
   "id": "274f192c",
   "metadata": {},
   "source": [
    "## Box Plot of Transactions by Fraud Status: With and Without Outliers"
   ]
  },
  {
   "cell_type": "code",
   "execution_count": 12,
   "id": "7a89de4a",
   "metadata": {},
   "outputs": [
    {
     "data": {
      "image/png": "[encoded data removed]",
      "text/plain": [
       "<Figure size 1200x600 with 2 Axes>"
      ]
     },
     "metadata": {},
     "output_type": "display_data"
    }
   ],
   "source": [
    "# Rename some columns and map Fraud Flag values\n",
    "data_box_plot = data.rename(columns={'Fraud_Flag': 'Fraud Flag', 'Transaction_Amount': 'Number of Transactions'})\n",
    "data_box_plot['Fraud Flag'] = data_box_plot['Fraud Flag'].map({0: 'Not Fraud', 1: 'Fraud'})\n",
    "\n",
    "fig, (ax1, ax2) = plt.subplots(ncols=2, figsize=(12, 6))\n",
    "\n",
    "# Define a custom palette for Fraud Flag\n",
    "custom_palette = {'Not Fraud': 'green', 'Fraud': 'red'}\n",
    "\n",
    "# Boxplot with outliers\n",
    "sns.boxplot(\n",
    "    ax=ax1,\n",
    "    x=\"Fraud Flag\",\n",
    "    y=\"Number of Transactions\",\n",
    "    hue=\"Fraud Flag\",\n",
    "    data=data_box_plot,\n",
    "    palette=custom_palette,\n",
    "    showfliers=True\n",
    ")\n",
    "ax1.set_title(\"Boxplot with Outliers\")\n",
    "\n",
    "# Boxplot without outliers\n",
    "sns.boxplot(\n",
    "    ax=ax2,\n",
    "    x=\"Fraud Flag\",\n",
    "    y=\"Number of Transactions\",\n",
    "    hue=\"Fraud Flag\",\n",
    "    data=data_box_plot,\n",
    "    palette=custom_palette,\n",
    "    showfliers=False\n",
    ")\n",
    "ax2.set_title(\"Boxplot without Outliers\")\n",
    "\n",
    "plt.tight_layout()\n",
    "plt.show()"
   ]
  },
  {
   "cell_type": "markdown",
   "id": "4c23ac96",
   "metadata": {},
   "source": [
    "## Descriptive Statistics for Transaction Amounts by Fraud Status"
   ]
  },
  {
   "cell_type": "code",
   "execution_count": 13,
   "id": "707f5ffe",
   "metadata": {},
   "outputs": [
    {
     "data": {
      "text/plain": [
       "count    284315.000000\n",
       "mean         88.291022\n",
       "std         250.105092\n",
       "min           0.000000\n",
       "25%           5.650000\n",
       "50%          22.000000\n",
       "75%          77.050000\n",
       "max       25691.160000\n",
       "Name: Transaction_Amount, dtype: float64"
      ]
     },
     "execution_count": 13,
     "metadata": {},
     "output_type": "execute_result"
    }
   ],
   "source": [
    "# Create new DataFrames for statistics\n",
    "stats = data[['Transaction_Amount','Fraud_Flag']].copy()\n",
    "Not_Fraud = stats.loc[stats['Fraud_Flag'] == 0]['Transaction_Amount']\n",
    "Fraud = stats.loc[stats['Fraud_Flag'] == 1]['Transaction_Amount']\n",
    "Not_Fraud.describe()"
   ]
  },
  {
   "cell_type": "code",
   "execution_count": 14,
   "id": "99a430da",
   "metadata": {},
   "outputs": [
    {
     "data": {
      "text/plain": [
       "count     492.000000\n",
       "mean      122.211321\n",
       "std       256.683288\n",
       "min         0.000000\n",
       "25%         1.000000\n",
       "50%         9.250000\n",
       "75%       105.890000\n",
       "max      2125.870000\n",
       "Name: Transaction_Amount, dtype: float64"
      ]
     },
     "execution_count": 14,
     "metadata": {},
     "output_type": "execute_result"
    }
   ],
   "source": [
    "Fraud.describe()"
   ]
  },
  {
   "cell_type": "markdown",
   "id": "4934726d",
   "metadata": {},
   "source": [
    "## Scatter Plot of Fraudulent Transactions: Time vs Amount"
   ]
  },
  {
   "cell_type": "code",
   "execution_count": 17,
   "id": "32ccdce7",
   "metadata": {},
   "outputs": [
    {
     "data": {
      "application/vnd.plotly.v1+json": {
       "config": {
        "linkText": "Export to plot.ly",
        "plotlyServerURL": "https://plot.ly",
        "showLink": false
       },
       "data": [
        {
         "marker": {
          "color": "rgb(238,23,11)",
          "line": {
           "color": "red",
           "width": 1
          },
          "opacity": 0.5
         },
         "mode": "markers",
         "name": "Transaction Amount",
         "text": {
          "bdata": "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",
          "dtype": "f8"
         },
         "type": "scatter",
         "x": {
          "bdata": "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",
          "dtype": "f8"
         },
         "y": {
          "bdata": "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",
          "dtype": "f8"
         }
        }
       ],
       "layout": {
        "hovermode": "closest",
        "template": {
         "data": {
          "bar": [
           {
            "error_x": {
             "color": "#2a3f5f"
            },
            "error_y": {
             "color": "#2a3f5f"
            },
            "marker": {
             "line": {
              "color": "#E5ECF6",
              "width": 0.5
             },
             "pattern": {
              "fillmode": "overlay",
              "size": 10,
              "solidity": 0.2
             }
            },
            "type": "bar"
           }
          ],
          "barpolar": [
           {
            "marker": {
             "line": {
              "color": "#E5ECF6",
              "width": 0.5
             },
             "pattern": {
              "fillmode": "overlay",
              "size": 10,
              "solidity": 0.2
             }
            },
            "type": "barpolar"
           }
          ],
          "carpet": [
           {
            "aaxis": {
             "endlinecolor": "#2a3f5f",
             "gridcolor": "white",
             "linecolor": "white",
             "minorgridcolor": "white",
             "startlinecolor": "#2a3f5f"
            },
            "baxis": {
             "endlinecolor": "#2a3f5f",
             "gridcolor": "white",
             "linecolor": "white",
             "minorgridcolor": "white",
             "startlinecolor": "#2a3f5f"
            },
            "type": "carpet"
           }
          ],
          "choropleth": [
           {
            "colorbar": {
             "outlinewidth": 0,
             "ticks": ""
            },
            "type": "choropleth"
           }
          ],
          "contour": [
           {
            "colorbar": {
             "outlinewidth": 0,
             "ticks": ""
            },
            "colorscale": [
             [
              0,
              "#0d0887"
             ],
             [
              0.1111111111111111,
              "#46039f"
             ],
             [
              0.2222222222222222,
              "#7201a8"
             ],
             [
              0.3333333333333333,
              "#9c179e"
             ],
             [
              0.4444444444444444,
              "#bd3786"
             ],
             [
              0.5555555555555556,
              "#d8576b"
             ],
             [
              0.6666666666666666,
              "#ed7953"
             ],
             [
              0.7777777777777778,
              "#fb9f3a"
             ],
             [
              0.8888888888888888,
              "#fdca26"
             ],
             [
              1,
              "#f0f921"
             ]
            ],
            "type": "contour"
           }
          ],
          "contourcarpet": [
           {
            "colorbar": {
             "outlinewidth": 0,
             "ticks": ""
            },
            "type": "contourcarpet"
           }
          ],
          "heatmap": [
           {
            "colorbar": {
             "outlinewidth": 0,
             "ticks": ""
            },
            "colorscale": [
             [
              0,
              "#0d0887"
             ],
             [
              0.1111111111111111,
              "#46039f"
             ],
             [
              0.2222222222222222,
              "#7201a8"
             ],
             [
              0.3333333333333333,
              "#9c179e"
             ],
             [
              0.4444444444444444,
              "#bd3786"
             ],
             [
              0.5555555555555556,
              "#d8576b"
             ],
             [
              0.6666666666666666,
              "#ed7953"
             ],
             [
              0.7777777777777778,
              "#fb9f3a"
             ],
             [
              0.8888888888888888,
              "#fdca26"
             ],
             [
              1,
              "#f0f921"
             ]
            ],
            "type": "heatmap"
           }
          ],
          "histogram": [
           {
            "marker": {
             "pattern": {
              "fillmode": "overlay",
              "size": 10,
              "solidity": 0.2
             }
            },
            "type": "histogram"
           }
          ],
          "histogram2d": [
           {
            "colorbar": {
             "outlinewidth": 0,
             "ticks": ""
            },
            "colorscale": [
             [
              0,
              "#0d0887"
             ],
             [
              0.1111111111111111,
              "#46039f"
             ],
             [
              0.2222222222222222,
              "#7201a8"
             ],
             [
              0.3333333333333333,
              "#9c179e"
             ],
             [
              0.4444444444444444,
              "#bd3786"
             ],
             [
              0.5555555555555556,
              "#d8576b"
             ],
             [
              0.6666666666666666,
              "#ed7953"
             ],
             [
              0.7777777777777778,
              "#fb9f3a"
             ],
             [
              0.8888888888888888,
              "#fdca26"
             ],
             [
              1,
              "#f0f921"
             ]
            ],
            "type": "histogram2d"
           }
          ],
          "histogram2dcontour": [
           {
            "colorbar": {
             "outlinewidth": 0,
             "ticks": ""
            },
            "colorscale": [
             [
              0,
              "#0d0887"
             ],
             [
              0.1111111111111111,
              "#46039f"
             ],
             [
              0.2222222222222222,
              "#7201a8"
             ],
             [
              0.3333333333333333,
              "#9c179e"
             ],
             [
              0.4444444444444444,
              "#bd3786"
             ],
             [
              0.5555555555555556,
              "#d8576b"
             ],
             [
              0.6666666666666666,
              "#ed7953"
             ],
             [
              0.7777777777777778,
              "#fb9f3a"
             ],
             [
              0.8888888888888888,
              "#fdca26"
             ],
             [
              1,
              "#f0f921"
             ]
            ],
            "type": "histogram2dcontour"
           }
          ],
          "mesh3d": [
           {
            "colorbar": {
             "outlinewidth": 0,
             "ticks": ""
            },
            "type": "mesh3d"
           }
          ],
          "parcoords": [
           {
            "line": {
             "colorbar": {
              "outlinewidth": 0,
              "ticks": ""
             }
            },
            "type": "parcoords"
           }
          ],
          "pie": [
           {
            "automargin": true,
            "type": "pie"
           }
          ],
          "scatter": [
           {
            "fillpattern": {
             "fillmode": "overlay",
             "size": 10,
             "solidity": 0.2
            },
            "type": "scatter"
           }
          ],
          "scatter3d": [
           {
            "line": {
             "colorbar": {
              "outlinewidth": 0,
              "ticks": ""
             }
            },
            "marker": {
             "colorbar": {
              "outlinewidth": 0,
              "ticks": ""
             }
            },
            "type": "scatter3d"
           }
          ],
          "scattercarpet": [
           {
            "marker": {
             "colorbar": {
              "outlinewidth": 0,
              "ticks": ""
             }
            },
            "type": "scattercarpet"
           }
          ],
          "scattergeo": [
           {
            "marker": {
             "colorbar": {
              "outlinewidth": 0,
              "ticks": ""
             }
            },
            "type": "scattergeo"
           }
          ],
          "scattergl": [
           {
            "marker": {
             "colorbar": {
              "outlinewidth": 0,
              "ticks": ""
             }
            },
            "type": "scattergl"
           }
          ],
          "scattermap": [
           {
            "marker": {
             "colorbar": {
              "outlinewidth": 0,
              "ticks": ""
             }
            },
            "type": "scattermap"
           }
          ],
          "scattermapbox": [
           {
            "marker": {
             "colorbar": {
              "outlinewidth": 0,
              "ticks": ""
             }
            },
            "type": "scattermapbox"
           }
          ],
          "scatterpolar": [
           {
            "marker": {
             "colorbar": {
              "outlinewidth": 0,
              "ticks": ""
             }
            },
            "type": "scatterpolar"
           }
          ],
          "scatterpolargl": [
           {
            "marker": {
             "colorbar": {
              "outlinewidth": 0,
              "ticks": ""
             }
            },
            "type": "scatterpolargl"
           }
          ],
          "scatterternary": [
           {
            "marker": {
             "colorbar": {
              "outlinewidth": 0,
              "ticks": ""
             }
            },
            "type": "scatterternary"
           }
          ],
          "surface": [
           {
            "colorbar": {
             "outlinewidth": 0,
             "ticks": ""
            },
            "colorscale": [
             [
              0,
              "#0d0887"
             ],
             [
              0.1111111111111111,
              "#46039f"
             ],
             [
              0.2222222222222222,
              "#7201a8"
             ],
             [
              0.3333333333333333,
              "#9c179e"
             ],
             [
              0.4444444444444444,
              "#bd3786"
             ],
             [
              0.5555555555555556,
              "#d8576b"
             ],
             [
              0.6666666666666666,
              "#ed7953"
             ],
             [
              0.7777777777777778,
              "#fb9f3a"
             ],
             [
              0.8888888888888888,
              "#fdca26"
             ],
             [
              1,
              "#f0f921"
             ]
            ],
            "type": "surface"
           }
          ],
          "table": [
           {
            "cells": {
             "fill": {
              "color": "#EBF0F8"
             },
             "line": {
              "color": "white"
             }
            },
            "header": {
             "fill": {
              "color": "#C8D4E3"
             },
             "line": {
              "color": "white"
             }
            },
            "type": "table"
           }
          ]
         },
         "layout": {
          "annotationdefaults": {
           "arrowcolor": "#2a3f5f",
           "arrowhead": 0,
           "arrowwidth": 1
          },
          "autotypenumbers": "strict",
          "coloraxis": {
           "colorbar": {
            "outlinewidth": 0,
            "ticks": ""
           }
          },
          "colorscale": {
           "diverging": [
            [
             0,
             "#8e0152"
            ],
            [
             0.1,
             "#c51b7d"
            ],
            [
             0.2,
             "#de77ae"
            ],
            [
             0.3,
             "#f1b6da"
            ],
            [
             0.4,
             "#fde0ef"
            ],
            [
             0.5,
             "#f7f7f7"
            ],
            [
             0.6,
             "#e6f5d0"
            ],
            [
             0.7,
             "#b8e186"
            ],
            [
             0.8,
             "#7fbc41"
            ],
            [
             0.9,
             "#4d9221"
            ],
            [
             1,
             "#276419"
            ]
           ],
           "sequential": [
            [
             0,
             "#0d0887"
            ],
            [
             0.1111111111111111,
             "#46039f"
            ],
            [
             0.2222222222222222,
             "#7201a8"
            ],
            [
             0.3333333333333333,
             "#9c179e"
            ],
            [
             0.4444444444444444,
             "#bd3786"
            ],
            [
             0.5555555555555556,
             "#d8576b"
            ],
            [
             0.6666666666666666,
             "#ed7953"
            ],
            [
             0.7777777777777778,
             "#fb9f3a"
            ],
            [
             0.8888888888888888,
             "#fdca26"
            ],
            [
             1,
             "#f0f921"
            ]
           ],
           "sequentialminus": [
            [
             0,
             "#0d0887"
            ],
            [
             0.1111111111111111,
             "#46039f"
            ],
            [
             0.2222222222222222,
             "#7201a8"
            ],
            [
             0.3333333333333333,
             "#9c179e"
            ],
            [
             0.4444444444444444,
             "#bd3786"
            ],
            [
             0.5555555555555556,
             "#d8576b"
            ],
            [
             0.6666666666666666,
             "#ed7953"
            ],
            [
             0.7777777777777778,
             "#fb9f3a"
            ],
            [
             0.8888888888888888,
             "#fdca26"
            ],
            [
             1,
             "#f0f921"
            ]
           ]
          },
          "colorway": [
           "#636efa",
           "#EF553B",
           "#00cc96",
           "#ab63fa",
           "#FFA15A",
           "#19d3f3",
           "#FF6692",
           "#B6E880",
           "#FF97FF",
           "#FECB52"
          ],
          "font": {
           "color": "#2a3f5f"
          },
          "geo": {
           "bgcolor": "white",
           "lakecolor": "white",
           "landcolor": "#E5ECF6",
           "showlakes": true,
           "showland": true,
           "subunitcolor": "white"
          },
          "hoverlabel": {
           "align": "left"
          },
          "hovermode": "closest",
          "mapbox": {
           "style": "light"
          },
          "paper_bgcolor": "white",
          "plot_bgcolor": "#E5ECF6",
          "polar": {
           "angularaxis": {
            "gridcolor": "white",
            "linecolor": "white",
            "ticks": ""
           },
           "bgcolor": "#E5ECF6",
           "radialaxis": {
            "gridcolor": "white",
            "linecolor": "white",
            "ticks": ""
           }
          },
          "scene": {
           "xaxis": {
            "backgroundcolor": "#E5ECF6",
            "gridcolor": "white",
            "gridwidth": 2,
            "linecolor": "white",
            "showbackground": true,
            "ticks": "",
            "zerolinecolor": "white"
           },
           "yaxis": {
            "backgroundcolor": "#E5ECF6",
            "gridcolor": "white",
            "gridwidth": 2,
            "linecolor": "white",
            "showbackground": true,
            "ticks": "",
            "zerolinecolor": "white"
           },
           "zaxis": {
            "backgroundcolor": "#E5ECF6",
            "gridcolor": "white",
            "gridwidth": 2,
            "linecolor": "white",
            "showbackground": true,
            "ticks": "",
            "zerolinecolor": "white"
           }
          },
          "shapedefaults": {
           "line": {
            "color": "#2a3f5f"
           }
          },
          "ternary": {
           "aaxis": {
            "gridcolor": "white",
            "linecolor": "white",
            "ticks": ""
           },
           "baxis": {
            "gridcolor": "white",
            "linecolor": "white",
            "ticks": ""
           },
           "bgcolor": "#E5ECF6",
           "caxis": {
            "gridcolor": "white",
            "linecolor": "white",
            "ticks": ""
           }
          },
          "title": {
           "x": 0.05
          },
          "xaxis": {
           "automargin": true,
           "gridcolor": "white",
           "linecolor": "white",
           "ticks": "",
           "title": {
            "standoff": 15
           },
           "zerolinecolor": "white",
           "zerolinewidth": 2
          },
          "yaxis": {
           "automargin": true,
           "gridcolor": "white",
           "linecolor": "white",
           "ticks": "",
           "title": {
            "standoff": 15
           },
           "zerolinecolor": "white",
           "zerolinewidth": 2
          }
         }
        },
        "title": {
         "text": "Transaction Time vs Value"
        },
        "xaxis": {
         "showticklabels": true,
         "title": {
          "text": "Time [h]"
         }
        },
        "yaxis": {
         "title": {
          "text": "Value"
         }
        }
       }
      }
     },
     "metadata": {},
     "output_type": "display_data"
    }
   ],
   "source": [
    "# Create a scatter plot for fraudulent transactions\n",
    "data_for_scatter_plot = data.loc[data['Fraud_Flag'] == 1]\n",
    "data_for_scatter_plot['Transaction_Time'] = data_for_scatter_plot['Transaction_Time'] / 3600  # Convert to hours\n",
    "data_for_scatter_plot['Transaction_Amount'] = data_for_scatter_plot['Transaction_Amount'].astype(float)  # Ensure it's float\n",
    "\n",
    "trace = go.Scatter(\n",
    "    x=data_for_scatter_plot['Transaction_Time'],\n",
    "    y=data_for_scatter_plot['Transaction_Amount'],\n",
    "    name=\"Transaction Amount\",\n",
    "    marker=dict(\n",
    "        color='rgb(238,23,11)',\n",
    "        line=dict(\n",
    "            color='red',\n",
    "            width=1\n",
    "        ),\n",
    "        opacity=0.5,\n",
    "    ),\n",
    "    text=data_for_scatter_plot['Transaction_Amount'],\n",
    "    mode=\"markers\"\n",
    ")\n",
    "\n",
    "scatter_plot_data= [trace]\n",
    "layout = dict(\n",
    "    title='Transaction Time vs Value',\n",
    "    xaxis=dict(title='Time [h]', showticklabels=True),\n",
    "    yaxis=dict(title='Value'),\n",
    "    hovermode='closest'\n",
    ")\n",
    "\n",
    "fig = dict(data=scatter_plot_data, layout=layout) \n",
    "iplot(fig, filename='fraud-amount')"
   ]
  },
  {
   "cell_type": "markdown",
   "id": "b1bf7b05",
   "metadata": {},
   "source": [
    "## Save Data to CSV"
   ]
  },
  {
   "cell_type": "code",
   "execution_count": 16,
   "id": "53861466",
   "metadata": {},
   "outputs": [],
   "source": [
    "data.to_csv(f\"{working_directory}/Input_Data/creditcard_post_exploration.csv\", index=False)"
   ]
  }
 ],
 "metadata": {
  "kernelspec": {
   "display_name": "Python 3",
   "language": "python",
   "name": "python3"
  },
  "language_info": {
   "codemirror_mode": {
    "name": "ipython",
    "version": 3
   },
   "file_extension": ".py",
   "mimetype": "text/x-python",
   "name": "python",
   "nbconvert_exporter": "python",
   "pygments_lexer": "ipython3",
   "version": "3.12.5"
  }
 },
 "nbformat": 4,
 "nbformat_minor": 5
}
