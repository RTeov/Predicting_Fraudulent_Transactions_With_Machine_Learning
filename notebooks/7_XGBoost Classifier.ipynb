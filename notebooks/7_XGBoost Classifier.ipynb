{
 "cells": [
  {
   "cell_type": "code",
   "execution_count": 1,
   "id": "3e1a29bc",
   "metadata": {},
   "outputs": [],
   "source": [
    "import os\n",
    "import pandas as pd\n",
    "import seaborn as sns\n",
    "import xgboost as xgb\n",
    "import matplotlib.pyplot as plt\n",
    "from sklearn.model_selection import train_test_split\n",
    "from sklearn.metrics import accuracy_score, precision_score, recall_score, f1_score, roc_auc_score, classification_report\n",
    "from sklearn.metrics import confusion_matrix"
   ]
  },
  {
   "cell_type": "markdown",
   "id": "281a6094",
   "metadata": {},
   "source": [
    "# Read the Data"
   ]
  },
  {
   "cell_type": "code",
   "execution_count": 2,
   "id": "df9e39f5",
   "metadata": {},
   "outputs": [
    {
     "name": "stdout",
     "output_type": "stream",
     "text": [
      "c:\\Users\\teovr\\Desktop\\Projects\\Predicting_Fraudulent_Transactions_With_Machine_Learning\n"
     ]
    }
   ],
   "source": [
    "working_directory = os.getcwd()\n",
    "print(working_directory)\n",
    "data = pd.read_csv(f\"{working_directory}/Input_Data/creditcard_post_correlation.csv\") #Change the path to your dataset, if needed"
   ]
  },
  {
   "cell_type": "markdown",
   "id": "4438a62f",
   "metadata": {},
   "source": [
    "## Define Predictors and Target Variables\n",
    "##### We will specify the predictor features and the target variable. Additionally, categorical features can be identified if present. In this case, there are no categorical features.\n",
    "\n"
   ]
  },
  {
   "cell_type": "code",
   "execution_count": 3,
   "id": "68b45ddc",
   "metadata": {},
   "outputs": [],
   "source": [
    "# Define the target variable\n",
    "target = 'Fraud_Flag'\n",
    "\n",
    "# Define the features to be used in the model\n",
    "predictors = [\n",
    "    'Transaction_Time', 'V1', 'V2', 'V3', 'V4', 'V5', 'V6', 'V7', 'V8', 'V9', 'V10',\n",
    "    'V11', 'V12', 'V13', 'V14', 'V15', 'V16', 'V17', 'V18', 'V19',\n",
    "    'V20', 'V21', 'V22', 'V23', 'V24', 'V25', 'V26', 'V27', 'V28',\n",
    "    'Transaction_Amount'\n",
    "]"
   ]
  },
  {
   "cell_type": "markdown",
   "id": "3009ba76",
   "metadata": {},
   "source": [
    "## Define the TRAIN/VALIDATION/TEST SPLIT"
   ]
  },
  {
   "cell_type": "code",
   "execution_count": null,
   "id": "84c20dbe",
   "metadata": {},
   "outputs": [
    {
     "name": "stdout",
     "output_type": "stream",
     "text": [
      "['creditcard.csv', 'creditcard_cleaned.csv', 'creditcard_post_correlation.csv', 'creditcard_post_exploration.csv', 'download_data_link.txt']\n"
     ]
    }
   ],
   "source": [
    "#TRAIN/VALIDATION/TEST SPLIT\n",
    "#VALIDATION\n",
    "VALID_SIZE = 0.20 # simple validation using train_test_split\n",
    "TEST_SIZE = 0.20 # test size using_train_test_split\n",
    "\n",
    "#CROSS-VALIDATION\n",
    "NUMBER_KFOLDS = 5 #number of KFolds for cross-validation\n",
    "\n",
    "RANDOM_STATE = 2018\n",
    "\n",
    "MAX_ROUNDS = 1000 # Number of boosting rounds for XGBoost\n",
    "EARLY_STOP = 50 # Early stopping rounds for XGBoost\n",
    "VERBOSE_EVAL = 50 # Print out metric result every 50 rounds\n",
    "\n",
    "# Set the path to the input data\n",
    "IS_LOCAL = True  # Set to True since you we running locally\n",
    "\n",
    "if IS_LOCAL:\n",
    "    PATH = (f\"{working_directory}/Input_Data/\")\n",
    "else:\n",
    "    PATH = \"../input\"\n",
    "\n",
    "print(os.listdir(PATH))  # List the files in the specified directory"
   ]
  },
  {
   "cell_type": "markdown",
   "id": "9e13e840",
   "metadata": {},
   "source": [
    "## Split data in train, test and validation set"
   ]
  },
  {
   "cell_type": "code",
   "execution_count": 5,
   "id": "8643b7ae",
   "metadata": {},
   "outputs": [],
   "source": [
    "# Split the data into training and testing sets\n",
    "train_df, test_df = train_test_split(\n",
    "    data, \n",
    "    test_size=TEST_SIZE, \n",
    "    random_state=RANDOM_STATE, \n",
    "    shuffle=True\n",
    ")\n",
    "\n",
    "# Further split the training set into training and validation sets\n",
    "train_df, valid_df = train_test_split(\n",
    "    train_df, \n",
    "    test_size=VALID_SIZE, \n",
    "    random_state=RANDOM_STATE, \n",
    "    shuffle=True\n",
    ")"
   ]
  },
  {
   "cell_type": "markdown",
   "id": "287c4bb7",
   "metadata": {},
   "source": [
    "## XGBoost"
   ]
  },
  {
   "cell_type": "markdown",
   "id": "b73bf19c",
   "metadata": {},
   "source": [
    "#### XGBoost is a gradient boosting algorithm"
   ]
  },
  {
   "cell_type": "markdown",
   "id": "0f81fbe7",
   "metadata": {},
   "source": [
    "### XGBoost Classifier definitions"
   ]
  },
  {
   "cell_type": "code",
   "execution_count": null,
   "id": "1e12b4db",
   "metadata": {},
   "outputs": [],
   "source": []
  },
  {
   "cell_type": "markdown",
   "id": "c6419aab",
   "metadata": {},
   "source": [
    "### Prepare the model\n",
    "##### initialize the DMatrix objects for training and validation, starting from the datasets  and set some of the parameters used for the model tuning."
   ]
  },
  {
   "cell_type": "code",
   "execution_count": 7,
   "id": "6c7a708a",
   "metadata": {},
   "outputs": [],
   "source": [
    "# Prepare the train and valid datasets\n",
    "dtrain = xgb.DMatrix(train_df[predictors], train_df[target].values)\n",
    "dvalid = xgb.DMatrix(valid_df[predictors], valid_df[target].values)\n",
    "dtest = xgb.DMatrix(test_df[predictors], test_df[target].values)\n",
    "\n",
    "#What to monitor (in this case, **train** and **valid**)\n",
    "watchlist = [(dtrain, 'train'), (dvalid, 'valid')]\n",
    "\n",
    "# Set xgboost parameters\n",
    "xgb_params = {}\n",
    "xgb_params['objective'] = 'binary:logistic'\n",
    "xgb_params['eta'] = 0.039\n",
    "xgb_params['silent'] = True\n",
    "xgb_params['max_depth'] = 2\n",
    "xgb_params['subsample'] = 0.8\n",
    "xgb_params['colsample_bytree'] = 0.9\n",
    "xgb_params['eval_metric'] = 'auc'\n",
    "xgb_params['random_state'] = RANDOM_STATE"
   ]
  },
  {
   "cell_type": "markdown",
   "id": "c2caeab1",
   "metadata": {},
   "source": [
    "### Train the model"
   ]
  },
  {
   "cell_type": "code",
   "execution_count": 8,
   "id": "86c3a5ab",
   "metadata": {},
   "outputs": [
    {
     "name": "stderr",
     "output_type": "stream",
     "text": [
      "C:\\Users\\teovr\\AppData\\Roaming\\Python\\Python312\\site-packages\\xgboost\\core.py:726: FutureWarning: Pass `evals` as keyword args.\n",
      "  warnings.warn(msg, FutureWarning)\n",
      "C:\\Users\\teovr\\AppData\\Roaming\\Python\\Python312\\site-packages\\xgboost\\callback.py:386: UserWarning: [00:51:53] WARNING: C:\\actions-runner\\_work\\xgboost\\xgboost\\src\\learner.cc:738: \n",
      "Parameters: { \"silent\" } are not used.\n",
      "\n",
      "  self.starting_round = model.num_boosted_rounds()\n"
     ]
    },
    {
     "name": "stdout",
     "output_type": "stream",
     "text": [
      "[0]\ttrain-auc:0.93758\tvalid-auc:0.88823\n",
      "[50]\ttrain-auc:0.98426\tvalid-auc:0.97736\n",
      "[100]\ttrain-auc:0.99063\tvalid-auc:0.98039\n",
      "[148]\ttrain-auc:0.99333\tvalid-auc:0.97755\n"
     ]
    }
   ],
   "source": [
    "model = xgb.train(xgb_params, \n",
    "                dtrain, \n",
    "                MAX_ROUNDS, \n",
    "                watchlist, \n",
    "                early_stopping_rounds=EARLY_STOP, \n",
    "                maximize=True, \n",
    "                verbose_eval=VERBOSE_EVAL)"
   ]
  },
  {
   "cell_type": "markdown",
   "id": "14ccb0fb",
   "metadata": {},
   "source": [
    "##### The best validation score (ROC-AUC) was 0.98039, for round 100."
   ]
  },
  {
   "cell_type": "markdown",
   "id": "21b4629e",
   "metadata": {},
   "source": [
    "### Features importance"
   ]
  },
  {
   "cell_type": "code",
   "execution_count": 9,
   "id": "203b10ce",
   "metadata": {},
   "outputs": [
    {
     "data": {
      "image/png": "[encoded data removed]",
      "text/plain": [
       "<Figure size 1000x600 with 1 Axes>"
      ]
     },
     "metadata": {},
     "output_type": "display_data"
    }
   ],
   "source": [
    "# Make predictions\n",
    "fig, ax = plt.subplots(figsize=(10, 6))\n",
    "xgb.plot_importance(\n",
    "    model,\n",
    "    ax=ax,\n",
    "    height=0.8,\n",
    "    title=\"Feature Importance (XGBoost)\",\n",
    "    color=\"forestgreen\",\n",
    "    importance_type='gain',  \n",
    "    show_values=False,       \n",
    ")\n",
    "\n",
    "# Add value labels to bars \n",
    "ax.set_title(\"XGBoost Feature Importance\", fontsize=18, fontweight='bold', pad=15)\n",
    "ax.set_xlabel(\"Importance Score\", fontsize=14)\n",
    "ax.set_ylabel(\"Features\", fontsize=14)\n",
    "\n",
    "# Plot the feature importance\n",
    "plt.xticks(fontsize=12)\n",
    "plt.yticks(fontsize=12)\n",
    "plt.tight_layout()\n",
    "plt.show()\n"
   ]
  },
  {
   "cell_type": "markdown",
   "id": "efe8598f",
   "metadata": {},
   "source": [
    "### Predict test set"
   ]
  },
  {
   "cell_type": "code",
   "execution_count": 10,
   "id": "b74fd03a",
   "metadata": {},
   "outputs": [],
   "source": [
    "predictions4 = model.predict(dtest)"
   ]
  },
  {
   "cell_type": "markdown",
   "id": "1e943401",
   "metadata": {},
   "source": [
    "### Confusion Matrix"
   ]
  },
  {
   "cell_type": "code",
   "execution_count": 11,
   "id": "28ee1bc4",
   "metadata": {},
   "outputs": [
    {
     "data": {
      "image/png": "[encoded data removed]",
      "text/plain": [
       "<Figure size 600x600 with 1 Axes>"
      ]
     },
     "metadata": {},
     "output_type": "display_data"
    }
   ],
   "source": [
    "# Convert predicted probabilities to class labels (0 or 1)\n",
    "xgb_pred_labels = (predictions4 >= 0.5).astype(int)\n",
    "\n",
    "# Create the confusion matrix\n",
    "cm_xgb = confusion_matrix(test_df[target].values, xgb_pred_labels)\n",
    "\n",
    "# Plot the confusion matrix\n",
    "plt.figure(figsize=(6, 6))\n",
    "sns.heatmap(\n",
    "    cm_xgb,\n",
    "    annot=True,\n",
    "    fmt='d',\n",
    "    cmap=\"Blues\",\n",
    "    linewidths=1,\n",
    "    linecolor=\"black\",\n",
    "    cbar=False,\n",
    "    xticklabels=['Not Fraud', 'Fraud'],\n",
    "    yticklabels=['Not Fraud', 'Fraud'],\n",
    "    annot_kws={\"size\": 18, \"weight\": \"bold\"}\n",
    ")\n",
    "\n",
    "# Add title and labels\n",
    "plt.title('XGBoost Confusion Matrix', fontsize=18, fontweight='bold', pad=15)\n",
    "plt.xlabel('Predicted', fontsize=14, labelpad=10)\n",
    "plt.ylabel('Actual', fontsize=14, labelpad=10)\n",
    "plt.tight_layout()\n",
    "plt.show()"
   ]
  },
  {
   "cell_type": "markdown",
   "id": "8e749f11",
   "metadata": {},
   "source": [
    "### Success Metrics\n",
    "\n",
    "- **Accuracy**: The proportion of total predictions that were correct.\n",
    "- **Precision**: The proportion of positive identifications that were actually correct (minimizes false positives).\n",
    "- **Recall (Sensitivity)**: The proportion of actual positives that were correctly identified (minimizes false negatives).\n",
    "- **F1 Score**: The harmonic mean of precision and recall, providing a balance between the two.\n",
    "- **ROC-AUC Score**: Measures the model's ability to distinguish between classes across all thresholds. A higher ROC-AUC indicates better overall classification performance, especially important for imbalanced datasets.\n",
    "- **Classification Report**: A detailed summary including precision, recall, F1-score, and support for each class.\n",
    "\n",
    "These metrics provide a more comprehensive view of model performance, especially for imbalanced datasets like fraud detection."
   ]
  },
  {
   "cell_type": "code",
   "execution_count": 12,
   "id": "b88bba54",
   "metadata": {},
   "outputs": [
    {
     "name": "stdout",
     "output_type": "stream",
     "text": [
      "--- Train Metrics ---\n",
      "Accuracy: 0.9995\n",
      "Precision: 0.8839\n",
      "Recall: 0.8138\n",
      "F1 Score: 0.8474\n",
      "ROC-AUC Score: 0.9068\n",
      "\n",
      "Classification Report:\n",
      "               precision    recall  f1-score   support\n",
      "\n",
      "   Not Fraud       1.00      1.00      1.00    181986\n",
      "       Fraud       0.88      0.81      0.85       290\n",
      "\n",
      "    accuracy                           1.00    182276\n",
      "   macro avg       0.94      0.91      0.92    182276\n",
      "weighted avg       1.00      1.00      1.00    182276\n",
      "\n",
      "\n",
      "\n",
      "--- Validation Metrics ---\n",
      "Accuracy: 0.9992\n",
      "Precision: 0.9000\n",
      "Recall: 0.7059\n",
      "F1 Score: 0.7912\n",
      "ROC-AUC Score: 0.8529\n",
      "\n",
      "Classification Report:\n",
      "               precision    recall  f1-score   support\n",
      "\n",
      "   Not Fraud       1.00      1.00      1.00     45467\n",
      "       Fraud       0.90      0.71      0.79       102\n",
      "\n",
      "    accuracy                           1.00     45569\n",
      "   macro avg       0.95      0.85      0.90     45569\n",
      "weighted avg       1.00      1.00      1.00     45569\n",
      "\n",
      "\n",
      "\n",
      "--- Test Metrics ---\n",
      "Accuracy: 0.9993\n",
      "Precision: 0.8690\n",
      "Recall: 0.7300\n",
      "F1 Score: 0.7935\n",
      "ROC-AUC Score: 0.8649\n",
      "\n",
      "Classification Report:\n",
      "               precision    recall  f1-score   support\n",
      "\n",
      "   Not Fraud       1.00      1.00      1.00     56862\n",
      "       Fraud       0.87      0.73      0.79       100\n",
      "\n",
      "    accuracy                           1.00     56962\n",
      "   macro avg       0.93      0.86      0.90     56962\n",
      "weighted avg       1.00      1.00      1.00     56962\n",
      "\n",
      "\n",
      "\n"
     ]
    }
   ],
   "source": [
    "# Calculate and print evaluation metrics\n",
    "def print_metrics(y_true, y_pred, dataset_name):\n",
    "    print(f\"--- {dataset_name} Metrics ---\")\n",
    "    print(f\"Accuracy: {accuracy_score(y_true, y_pred):.4f}\")\n",
    "    print(f\"Precision: {precision_score(y_true, y_pred):.4f}\")\n",
    "    print(f\"Recall: {recall_score(y_true, y_pred):.4f}\")\n",
    "    print(f\"F1 Score: {f1_score(y_true, y_pred):.4f}\")\n",
    "    print(f\"ROC-AUC Score: {roc_auc_score(y_true, y_pred):.4f}\")\n",
    "    print(\"\\nClassification Report:\\n\", classification_report(y_true, y_pred, target_names=[\"Not Fraud\", \"Fraud\"]))\n",
    "    print(\"\\n\")\n",
    "\n",
    "# Get predictions for each set (convert probabilities to class labels)\n",
    "train_pred_xgb = (model.predict(xgb.DMatrix(train_df[predictors])) >= 0.5).astype(int)\n",
    "valid_pred_xgb = (model.predict(xgb.DMatrix(valid_df[predictors])) >= 0.5).astype(int)\n",
    "test_pred_xgb = (model.predict(xgb.DMatrix(test_df[predictors])) >= 0.5).astype(int)\n",
    "\n",
    "# Print metrics\n",
    "print_metrics(train_df[target].values, train_pred_xgb, \"Train\")\n",
    "print_metrics(valid_df[target].values, valid_pred_xgb, \"Validation\")\n",
    "print_metrics(test_df[target].values, test_pred_xgb, \"Test\")"
   ]
  },
  {
   "cell_type": "markdown",
   "id": "d6b924c3",
   "metadata": {},
   "source": [
    "### Explanation of Evaluation Metrics\n",
    "\n",
    "The following metrics are used to evaluate the performance of the XGBoost classifier on the fraud detection task:\n",
    "\n",
    "- **Accuracy**: The proportion of total predictions that were correct. In imbalanced datasets, accuracy can be misleading, as a model can achieve high accuracy by simply predicting the majority class.\n",
    "\n",
    "- **Precision**: The proportion of positive predictions (fraud) that were actually correct. High precision means that when the model predicts fraud, it is usually correct. Important when the cost of a false positive is high.\n",
    "\n",
    "- **Recall (Sensitivity)**: The proportion of actual fraud cases that were correctly identified. High recall means the model detects most frauds. Important when missing a fraud case is costly.\n",
    "\n",
    "- **F1 Score**: The harmonic mean of precision and recall. It balances the trade-off between precision and recall, especially useful for imbalanced datasets.\n",
    "\n",
    "- **ROC-AUC Score**: Measures the model's ability to distinguish between classes across all thresholds. A higher ROC-AUC indicates better overall performance.\n",
    "\n",
    "- **Classification Report**: Provides a detailed breakdown of precision, recall, F1-score, and support for each class (fraud and not fraud).\n",
    "\n",
    "**Note:** In fraud detection, recall and ROC-AUC are often prioritized, as it is crucial to identify as many fraudulent transactions as possible, even if it means accepting some false positives."
   ]
  }
 ],
 "metadata": {
  "kernelspec": {
   "display_name": "Python 3",
   "language": "python",
   "name": "python3"
  },
  "language_info": {
   "codemirror_mode": {
    "name": "ipython",
    "version": 3
   },
   "file_extension": ".py",
   "mimetype": "text/x-python",
   "name": "python",
   "nbconvert_exporter": "python",
   "pygments_lexer": "ipython3",
   "version": "3.12.5"
  }
 },
 "nbformat": 4,
 "nbformat_minor": 5
}
